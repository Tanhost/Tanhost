{
  "nbformat": 4,
  "nbformat_minor": 0,
  "metadata": {
    "colab": {
      "provenance": [],
      "authorship_tag": "ABX9TyOu9Ou8DIkKnfGikO6IR/2z",
      "include_colab_link": true
    },
    "kernelspec": {
      "name": "python3",
      "display_name": "Python 3"
    },
    "language_info": {
      "name": "python"
    }
  },
  "cells": [
    {
      "cell_type": "markdown",
      "metadata": {
        "id": "view-in-github",
        "colab_type": "text"
      },
      "source": [
        "<a href=\"https://colab.research.google.com/github/Tanhost/Tanhost/blob/main/lesson1.1.ipynb\" target=\"_parent\"><img src=\"https://colab.research.google.com/assets/colab-badge.svg\" alt=\"Open In Colab\"/></a>"
      ]
    },
    {
      "cell_type": "code",
      "execution_count": 6,
      "metadata": {
        "colab": {
          "base_uri": "https://localhost:8080/"
        },
        "id": "9wNvzSepKvt_",
        "outputId": "8a7c3518-0d18-47f8-ebf7-187715f02f36"
      },
      "outputs": [
        {
          "output_type": "stream",
          "name": "stdout",
          "text": [
            "Ola mundo\n"
          ]
        }
      ],
      "source": [
        "print (\"Ola mundo\")"
      ]
    },
    {
      "cell_type": "code",
      "source": [
        "palavra = \"Apenas uma dessas condições precisa ser atendida para que o Python imprima a mensagem.\"\n",
        "for letra in palavra:\n",
        "    print(letra)\n"
      ],
      "metadata": {
        "colab": {
          "base_uri": "https://localhost:8080/"
        },
        "id": "S5BM71-0K453",
        "outputId": "b7aa55e0-a6b5-449f-eef3-fab4c5aa80ad"
      },
      "execution_count": 7,
      "outputs": [
        {
          "output_type": "stream",
          "name": "stdout",
          "text": [
            "A\n",
            "p\n",
            "e\n",
            "n\n",
            "a\n",
            "s\n",
            " \n",
            "u\n",
            "m\n",
            "a\n",
            " \n",
            "d\n",
            "e\n",
            "s\n",
            "s\n",
            "a\n",
            "s\n",
            " \n",
            "c\n",
            "o\n",
            "n\n",
            "d\n",
            "i\n",
            "ç\n",
            "õ\n",
            "e\n",
            "s\n",
            " \n",
            "p\n",
            "r\n",
            "e\n",
            "c\n",
            "i\n",
            "s\n",
            "a\n",
            " \n",
            "s\n",
            "e\n",
            "r\n",
            " \n",
            "a\n",
            "t\n",
            "e\n",
            "n\n",
            "d\n",
            "i\n",
            "d\n",
            "a\n",
            " \n",
            "p\n",
            "a\n",
            "r\n",
            "a\n",
            " \n",
            "q\n",
            "u\n",
            "e\n",
            " \n",
            "o\n",
            " \n",
            "P\n",
            "y\n",
            "t\n",
            "h\n",
            "o\n",
            "n\n",
            " \n",
            "i\n",
            "m\n",
            "p\n",
            "r\n",
            "i\n",
            "m\n",
            "a\n",
            " \n",
            "a\n",
            " \n",
            "m\n",
            "e\n",
            "n\n",
            "s\n",
            "a\n",
            "g\n",
            "e\n",
            "m\n",
            ".\n"
          ]
        }
      ]
    },
    {
      "cell_type": "code",
      "source": [
        "for i in [1,2,3,4,5,6,7]:\n",
        "   print(i)"
      ],
      "metadata": {
        "colab": {
          "base_uri": "https://localhost:8080/"
        },
        "id": "5kb7b57mRVP8",
        "outputId": "7b9466d1-16c5-4f87-9605-31d9590dd15b"
      },
      "execution_count": 10,
      "outputs": [
        {
          "output_type": "stream",
          "name": "stdout",
          "text": [
            "1\n",
            "2\n",
            "3\n",
            "4\n",
            "5\n",
            "6\n",
            "7\n"
          ]
        }
      ]
    },
    {
      "cell_type": "code",
      "source": [
        "time = 0\n",
        "while time <=10:\n",
        "  print(time)\n",
        "  time = time + 2"
      ],
      "metadata": {
        "colab": {
          "base_uri": "https://localhost:8080/"
        },
        "id": "2oE4ZC48RjwV",
        "outputId": "1143dac4-b3ea-4217-8b0d-5b77b726624e"
      },
      "execution_count": 11,
      "outputs": [
        {
          "output_type": "stream",
          "name": "stdout",
          "text": [
            "0\n",
            "2\n",
            "4\n",
            "6\n",
            "8\n",
            "10\n"
          ]
        }
      ]
    },
    {
      "cell_type": "code",
      "source": [
        "max_devices = 10\n",
        "i = 3\n",
        "\n",
        "while i < max_devices:\n",
        "  print(\"User can still connect to additional device\")\n",
        "  i = i + 1\n",
        "print(\"User has reached maximum number of connected devices\")"
      ],
      "metadata": {
        "colab": {
          "base_uri": "https://localhost:8080/"
        },
        "id": "2lPUbSZ9U2H9",
        "outputId": "048307b6-c05f-49df-842b-1745098604ac"
      },
      "execution_count": 21,
      "outputs": [
        {
          "output_type": "stream",
          "name": "stdout",
          "text": [
            "User can still connect to additional device\n",
            "User can still connect to additional device\n",
            "User can still connect to additional device\n",
            "User can still connect to additional device\n",
            "User can still connect to additional device\n",
            "User can still connect to additional device\n",
            "User can still connect to additional device\n",
            "User has reached maximum number of connected devices\n"
          ]
        }
      ]
    },
    {
      "cell_type": "code",
      "source": [
        "for i in range(3,8):\n",
        "  print(i)"
      ],
      "metadata": {
        "colab": {
          "base_uri": "https://localhost:8080/"
        },
        "id": "-1vPF9uSwYIT",
        "outputId": "079ad7fb-2904-4f3d-9400-4e45131880a7"
      },
      "execution_count": 24,
      "outputs": [
        {
          "output_type": "stream",
          "name": "stdout",
          "text": [
            "3\n",
            "4\n",
            "5\n",
            "6\n",
            "7\n"
          ]
        }
      ]
    },
    {
      "cell_type": "code",
      "source": [
        "count = 0\n",
        "while count < 10:\n",
        "  print(\"security alert\")\n",
        "  count = count + 1"
      ],
      "metadata": {
        "colab": {
          "base_uri": "https://localhost:8080/"
        },
        "id": "nObcNaZGw62b",
        "outputId": "764a4cce-ddb3-4c69-8c49-e414b8e45686"
      },
      "execution_count": 25,
      "outputs": [
        {
          "output_type": "stream",
          "name": "stdout",
          "text": [
            "security alert\n",
            "security alert\n",
            "security alert\n",
            "security alert\n",
            "security alert\n",
            "security alert\n",
            "security alert\n",
            "security alert\n",
            "security alert\n",
            "security alert\n"
          ]
        }
      ]
    },
    {
      "cell_type": "code",
      "source": [
        "ip_address = \"192.168.183.51\"\n",
        "if ip_address == \"192.168.183.51\":\n",
        "  print(\"You're logged in.\")\n",
        "else:\n",
        "  print(\"Login failed, try again.\")"
      ],
      "metadata": {
        "colab": {
          "base_uri": "https://localhost:8080/"
        },
        "id": "t8gBK2BGxJyV",
        "outputId": "34daca05-1c68-4bac-fac7-6b61ef8cdff9"
      },
      "execution_count": 26,
      "outputs": [
        {
          "output_type": "stream",
          "name": "stdout",
          "text": [
            "You're logged in.\n"
          ]
        }
      ]
    },
    {
      "cell_type": "code",
      "source": [
        "var2 = [\"a\",\"b\",\"c\"]\n",
        "var2_type = type(var2)\n",
        "print(var2_type)"
      ],
      "metadata": {
        "colab": {
          "base_uri": "https://localhost:8080/"
        },
        "id": "L80tS_cn3EUC",
        "outputId": "71a6591b-fb17-4eaa-ecbc-f200ae2555c1"
      },
      "execution_count": 27,
      "outputs": [
        {
          "output_type": "stream",
          "name": "stdout",
          "text": [
            "<class 'list'>\n"
          ]
        }
      ]
    },
    {
      "cell_type": "code",
      "source": [
        "for i in range(1,4):\n",
        "  print(i)\n"
      ],
      "metadata": {
        "colab": {
          "base_uri": "https://localhost:8080/"
        },
        "id": "IsHL3sPT3Sn_",
        "outputId": "b0ec727c-12d6-4045-9cef-149567890f10"
      },
      "execution_count": 40,
      "outputs": [
        {
          "output_type": "stream",
          "name": "stdout",
          "text": [
            "1\n",
            "2\n",
            "3\n"
          ]
        }
      ]
    },
    {
      "cell_type": "code",
      "source": [
        "count = 1\n",
        "while count < 5:\n",
        "  print(\"warning\")\n",
        "  count = count + 1"
      ],
      "metadata": {
        "colab": {
          "base_uri": "https://localhost:8080/"
        },
        "id": "H4t9XvLw41VL",
        "outputId": "6d90308b-738d-4e3a-b55e-3805274a4165"
      },
      "execution_count": 41,
      "outputs": [
        {
          "output_type": "stream",
          "name": "stdout",
          "text": [
            "warning\n",
            "warning\n",
            "warning\n",
            "warning\n"
          ]
        }
      ]
    }
  ]
}