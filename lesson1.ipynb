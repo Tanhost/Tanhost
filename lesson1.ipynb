{
  "nbformat": 4,
  "nbformat_minor": 0,
  "metadata": {
    "colab": {
      "provenance": [],
      "authorship_tag": "ABX9TyNFvFmK+T55T5mnRNDhp6AC",
      "include_colab_link": true
    },
    "kernelspec": {
      "name": "python3",
      "display_name": "Python 3"
    },
    "language_info": {
      "name": "python"
    }
  },
  "cells": [
    {
      "cell_type": "markdown",
      "metadata": {
        "id": "view-in-github",
        "colab_type": "text"
      },
      "source": [
        "<a href=\"https://colab.research.google.com/github/Tanhost/Tanhost/blob/main/lesson1.ipynb\" target=\"_parent\"><img src=\"https://colab.research.google.com/assets/colab-badge.svg\" alt=\"Open In Colab\"/></a>"
      ]
    },
    {
      "cell_type": "code",
      "execution_count": 6,
      "metadata": {
        "colab": {
          "base_uri": "https://localhost:8080/"
        },
        "id": "9wNvzSepKvt_",
        "outputId": "8a7c3518-0d18-47f8-ebf7-187715f02f36"
      },
      "outputs": [
        {
          "output_type": "stream",
          "name": "stdout",
          "text": [
            "Ola mundo\n"
          ]
        }
      ],
      "source": [
        "print (\"Ola mundo\")"
      ]
    },
    {
      "cell_type": "code",
      "source": [
        "palavra = \"Apenas uma dessas condições precisa ser atendida para que o Python imprima a mensagem.\"\n",
        "for letra in palavra:\n",
        "    print(letra)\n"
      ],
      "metadata": {
        "colab": {
          "base_uri": "https://localhost:8080/"
        },
        "id": "S5BM71-0K453",
        "outputId": "b7aa55e0-a6b5-449f-eef3-fab4c5aa80ad"
      },
      "execution_count": 7,
      "outputs": [
        {
          "output_type": "stream",
          "name": "stdout",
          "text": [
            "A\n",
            "p\n",
            "e\n",
            "n\n",
            "a\n",
            "s\n",
            " \n",
            "u\n",
            "m\n",
            "a\n",
            " \n",
            "d\n",
            "e\n",
            "s\n",
            "s\n",
            "a\n",
            "s\n",
            " \n",
            "c\n",
            "o\n",
            "n\n",
            "d\n",
            "i\n",
            "ç\n",
            "õ\n",
            "e\n",
            "s\n",
            " \n",
            "p\n",
            "r\n",
            "e\n",
            "c\n",
            "i\n",
            "s\n",
            "a\n",
            " \n",
            "s\n",
            "e\n",
            "r\n",
            " \n",
            "a\n",
            "t\n",
            "e\n",
            "n\n",
            "d\n",
            "i\n",
            "d\n",
            "a\n",
            " \n",
            "p\n",
            "a\n",
            "r\n",
            "a\n",
            " \n",
            "q\n",
            "u\n",
            "e\n",
            " \n",
            "o\n",
            " \n",
            "P\n",
            "y\n",
            "t\n",
            "h\n",
            "o\n",
            "n\n",
            " \n",
            "i\n",
            "m\n",
            "p\n",
            "r\n",
            "i\n",
            "m\n",
            "a\n",
            " \n",
            "a\n",
            " \n",
            "m\n",
            "e\n",
            "n\n",
            "s\n",
            "a\n",
            "g\n",
            "e\n",
            "m\n",
            ".\n"
          ]
        }
      ]
    },
    {
      "cell_type": "code",
      "source": [
        "for i in [1,2,3,4,5,6,7]:\n",
        "   print(i)"
      ],
      "metadata": {
        "colab": {
          "base_uri": "https://localhost:8080/"
        },
        "id": "5kb7b57mRVP8",
        "outputId": "7b9466d1-16c5-4f87-9605-31d9590dd15b"
      },
      "execution_count": 10,
      "outputs": [
        {
          "output_type": "stream",
          "name": "stdout",
          "text": [
            "1\n",
            "2\n",
            "3\n",
            "4\n",
            "5\n",
            "6\n",
            "7\n"
          ]
        }
      ]
    },
    {
      "cell_type": "code",
      "source": [
        "time = 0\n",
        "while time <=10:\n",
        "  print(time)\n",
        "  time = time + 2"
      ],
      "metadata": {
        "colab": {
          "base_uri": "https://localhost:8080/"
        },
        "id": "2oE4ZC48RjwV",
        "outputId": "1143dac4-b3ea-4217-8b0d-5b77b726624e"
      },
      "execution_count": 11,
      "outputs": [
        {
          "output_type": "stream",
          "name": "stdout",
          "text": [
            "0\n",
            "2\n",
            "4\n",
            "6\n",
            "8\n",
            "10\n"
          ]
        }
      ]
    },
    {
      "cell_type": "code",
      "source": [
        "max_devices = 100\n",
        "i = 3\n",
        "\n",
        "while i < max_devices:\n",
        "  print(\"User can still connect to additional device\")\n",
        "  i = i + 1\n",
        "print(\"User has reached maximum number of connected devices\")"
      ],
      "metadata": {
        "colab": {
          "base_uri": "https://localhost:8080/"
        },
        "id": "2lPUbSZ9U2H9",
        "outputId": "8e18ce87-4a68-42f6-d956-a256b34172c8"
      },
      "execution_count": 14,
      "outputs": [
        {
          "output_type": "stream",
          "name": "stdout",
          "text": [
            "User can still connect to additional device\n",
            "User can still connect to additional device\n",
            "User can still connect to additional device\n",
            "User can still connect to additional device\n",
            "User can still connect to additional device\n",
            "User can still connect to additional device\n",
            "User can still connect to additional device\n",
            "User can still connect to additional device\n",
            "User can still connect to additional device\n",
            "User can still connect to additional device\n",
            "User can still connect to additional device\n",
            "User can still connect to additional device\n",
            "User can still connect to additional device\n",
            "User can still connect to additional device\n",
            "User can still connect to additional device\n",
            "User can still connect to additional device\n",
            "User can still connect to additional device\n",
            "User can still connect to additional device\n",
            "User can still connect to additional device\n",
            "User can still connect to additional device\n",
            "User can still connect to additional device\n",
            "User can still connect to additional device\n",
            "User can still connect to additional device\n",
            "User can still connect to additional device\n",
            "User can still connect to additional device\n",
            "User can still connect to additional device\n",
            "User can still connect to additional device\n",
            "User can still connect to additional device\n",
            "User can still connect to additional device\n",
            "User can still connect to additional device\n",
            "User can still connect to additional device\n",
            "User can still connect to additional device\n",
            "User can still connect to additional device\n",
            "User can still connect to additional device\n",
            "User can still connect to additional device\n",
            "User can still connect to additional device\n",
            "User can still connect to additional device\n",
            "User can still connect to additional device\n",
            "User can still connect to additional device\n",
            "User can still connect to additional device\n",
            "User can still connect to additional device\n",
            "User can still connect to additional device\n",
            "User can still connect to additional device\n",
            "User can still connect to additional device\n",
            "User can still connect to additional device\n",
            "User can still connect to additional device\n",
            "User can still connect to additional device\n",
            "User can still connect to additional device\n",
            "User can still connect to additional device\n",
            "User can still connect to additional device\n",
            "User can still connect to additional device\n",
            "User can still connect to additional device\n",
            "User can still connect to additional device\n",
            "User can still connect to additional device\n",
            "User can still connect to additional device\n",
            "User can still connect to additional device\n",
            "User can still connect to additional device\n",
            "User can still connect to additional device\n",
            "User can still connect to additional device\n",
            "User can still connect to additional device\n",
            "User can still connect to additional device\n",
            "User can still connect to additional device\n",
            "User can still connect to additional device\n",
            "User can still connect to additional device\n",
            "User can still connect to additional device\n",
            "User can still connect to additional device\n",
            "User can still connect to additional device\n",
            "User can still connect to additional device\n",
            "User can still connect to additional device\n",
            "User can still connect to additional device\n",
            "User can still connect to additional device\n",
            "User can still connect to additional device\n",
            "User can still connect to additional device\n",
            "User can still connect to additional device\n",
            "User can still connect to additional device\n",
            "User can still connect to additional device\n",
            "User can still connect to additional device\n",
            "User can still connect to additional device\n",
            "User can still connect to additional device\n",
            "User can still connect to additional device\n",
            "User can still connect to additional device\n",
            "User can still connect to additional device\n",
            "User can still connect to additional device\n",
            "User can still connect to additional device\n",
            "User can still connect to additional device\n",
            "User can still connect to additional device\n",
            "User can still connect to additional device\n",
            "User can still connect to additional device\n",
            "User can still connect to additional device\n",
            "User can still connect to additional device\n",
            "User can still connect to additional device\n",
            "User can still connect to additional device\n",
            "User can still connect to additional device\n",
            "User can still connect to additional device\n",
            "User can still connect to additional device\n",
            "User can still connect to additional device\n",
            "User can still connect to additional device\n",
            "User has reached maximum number of connected devices\n"
          ]
        }
      ]
    }
  ]
}