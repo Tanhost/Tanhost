{
  "nbformat": 4,
  "nbformat_minor": 0,
  "metadata": {
    "colab": {
      "provenance": [],
      "authorship_tag": "ABX9TyMk72fJXcOELW8G94imaJsc",
      "include_colab_link": true
    },
    "kernelspec": {
      "name": "python3",
      "display_name": "Python 3"
    },
    "language_info": {
      "name": "python"
    }
  },
  "cells": [
    {
      "cell_type": "markdown",
      "metadata": {
        "id": "view-in-github",
        "colab_type": "text"
      },
      "source": [
        "<a href=\"https://colab.research.google.com/github/Tanhost/Tanhost/blob/main/lesson10.ipynb\" target=\"_parent\"><img src=\"https://colab.research.google.com/assets/colab-badge.svg\" alt=\"Open In Colab\"/></a>"
      ]
    },
    {
      "cell_type": "markdown",
      "source": [
        "FUNÇÃO SPLIT E JOIN"
      ],
      "metadata": {
        "id": "nudyJst1ygOt"
      }
    },
    {
      "cell_type": "code",
      "execution_count": 12,
      "metadata": {
        "colab": {
          "base_uri": "https://localhost:8080/"
        },
        "id": "q9k1lE4nCdTq",
        "outputId": "e270365a-ab07-4e35-dce8-426ea85acb16"
      },
      "outputs": [
        {
          "output_type": "stream",
          "name": "stdout",
          "text": [
            "before .split(): elarson,bmoreno,tshah,sgilmore,eraab\n",
            "after .split(): ['elarson', 'bmoreno', 'tshah', 'sgilmore', 'eraab']\n"
          ]
        }
      ],
      "source": [
        "approved_users = \"elarson,bmoreno,tshah,sgilmore,eraab\"\n",
        "print(\"before .split():\", approved_users)\n",
        "approved_users = approved_users.split(\",\")\n",
        "print(\"after .split():\", approved_users)"
      ]
    },
    {
      "cell_type": "code",
      "source": [
        "removed_users = \"wjaffrey jsoto abernard jhill awilliam\"\n",
        "print(\"before .split():\", removed_users)\n",
        "removed_users = removed_users.split()\n",
        "print(\"after .split():\", removed_users)"
      ],
      "metadata": {
        "colab": {
          "base_uri": "https://localhost:8080/"
        },
        "id": "f1FxwmYWyK7G",
        "outputId": "f3f276c5-722e-40c3-93c6-05753d353ad3"
      },
      "execution_count": 13,
      "outputs": [
        {
          "output_type": "stream",
          "name": "stdout",
          "text": [
            "before .split(): wjaffrey jsoto abernard jhill awilliam\n",
            "after .split(): ['wjaffrey', 'jsoto', 'abernard', 'jhill', 'awilliam']\n"
          ]
        }
      ]
    },
    {
      "cell_type": "code",
      "source": [
        "approved_users = [\"elarson\", \"bmoreno\", \"tshah\", \"sgilmore\", \"eraab\"]\n",
        "print(\"before .join():\", approved_users)\n",
        "approved_users = \",\".join(approved_users)\n",
        "print(\"after .join():\", approved_users)"
      ],
      "metadata": {
        "colab": {
          "base_uri": "https://localhost:8080/"
        },
        "id": "dp7PG4rwyObN",
        "outputId": "228ac2b4-88cd-4e63-a43c-fb8c4f9986fb"
      },
      "execution_count": 14,
      "outputs": [
        {
          "output_type": "stream",
          "name": "stdout",
          "text": [
            "before .join(): ['elarson', 'bmoreno', 'tshah', 'sgilmore', 'eraab']\n",
            "after .join(): elarson,bmoreno,tshah,sgilmore,eraab\n"
          ]
        }
      ]
    },
    {
      "cell_type": "markdown",
      "source": [
        "CONTINUANDO..."
      ],
      "metadata": {
        "id": "I9RXWFj7zSno"
      }
    },
    {
      "cell_type": "code",
      "source": [
        "# Assign `import_file` to the name of the text file that contains the security log file\n",
        "\n",
        "import_file = \"data/login.txt\"\n",
        "\n",
        "# The`with` statement\n",
        "# Use `open()` to import security log file and store it as a string\n",
        "\n",
        "with open(import_file, \"r\") as file:\n",
        "\n",
        "  # Use `.read()` to read the imported file and store the result in a variable named `text`\n",
        "\n",
        "  text = file.read()\n",
        "\n",
        "# Display the contents of `text`\n",
        "\n",
        "print(text)"
      ],
      "metadata": {
        "colab": {
          "base_uri": "https://localhost:8080/",
          "height": 235
        },
        "id": "K6D681PszVwr",
        "outputId": "e726be96-c034-4851-d331-88eec1329bc0"
      },
      "execution_count": 15,
      "outputs": [
        {
          "output_type": "error",
          "ename": "FileNotFoundError",
          "evalue": "[Errno 2] No such file or directory: 'data/login.txt'",
          "traceback": [
            "\u001b[0;31m---------------------------------------------------------------------------\u001b[0m",
            "\u001b[0;31mFileNotFoundError\u001b[0m                         Traceback (most recent call last)",
            "\u001b[0;32m<ipython-input-15-84c58ab804c0>\u001b[0m in \u001b[0;36m<cell line: 8>\u001b[0;34m()\u001b[0m\n\u001b[1;32m      6\u001b[0m \u001b[0;31m# Use `open()` to import security log file and store it as a string\u001b[0m\u001b[0;34m\u001b[0m\u001b[0;34m\u001b[0m\u001b[0m\n\u001b[1;32m      7\u001b[0m \u001b[0;34m\u001b[0m\u001b[0m\n\u001b[0;32m----> 8\u001b[0;31m \u001b[0;32mwith\u001b[0m \u001b[0mopen\u001b[0m\u001b[0;34m(\u001b[0m\u001b[0mimport_file\u001b[0m\u001b[0;34m,\u001b[0m \u001b[0;34m\"r\"\u001b[0m\u001b[0;34m)\u001b[0m \u001b[0;32mas\u001b[0m \u001b[0mfile\u001b[0m\u001b[0;34m:\u001b[0m\u001b[0;34m\u001b[0m\u001b[0;34m\u001b[0m\u001b[0m\n\u001b[0m\u001b[1;32m      9\u001b[0m \u001b[0;34m\u001b[0m\u001b[0m\n\u001b[1;32m     10\u001b[0m   \u001b[0;31m# Use `.read()` to read the imported file and store the result in a variable named `text`\u001b[0m\u001b[0;34m\u001b[0m\u001b[0;34m\u001b[0m\u001b[0m\n",
            "\u001b[0;31mFileNotFoundError\u001b[0m: [Errno 2] No such file or directory: 'data/login.txt'"
          ]
        }
      ]
    },
    {
      "cell_type": "code",
      "source": [
        "# Assign `import_file` to the name of the text file that contains the security log file\n",
        "\n",
        "import_file = \"data/login.txt\"\n",
        "\n",
        "# The`with` statement\n",
        "# Use `open()` to import security log file and store it as a string\n",
        "\n",
        "with open(import_file, \"r\") as file:\n",
        "\n",
        "  # Use `.read()` to read the imported file and store the result in a variable named `text`\n",
        "\n",
        "  text = file.read()\n",
        "\n",
        "# Display the contents of `text` split into separate lines\n",
        "\n",
        "print(text.split())"
      ],
      "metadata": {
        "colab": {
          "base_uri": "https://localhost:8080/",
          "height": 235
        },
        "id": "FwQ44oSUzvJz",
        "outputId": "5ea9cfef-3cdc-4c21-fd80-5fc60ea4427e"
      },
      "execution_count": 16,
      "outputs": [
        {
          "output_type": "error",
          "ename": "FileNotFoundError",
          "evalue": "[Errno 2] No such file or directory: 'data/login.txt'",
          "traceback": [
            "\u001b[0;31m---------------------------------------------------------------------------\u001b[0m",
            "\u001b[0;31mFileNotFoundError\u001b[0m                         Traceback (most recent call last)",
            "\u001b[0;32m<ipython-input-16-16997057d8fe>\u001b[0m in \u001b[0;36m<cell line: 8>\u001b[0;34m()\u001b[0m\n\u001b[1;32m      6\u001b[0m \u001b[0;31m# Use `open()` to import security log file and store it as a string\u001b[0m\u001b[0;34m\u001b[0m\u001b[0;34m\u001b[0m\u001b[0m\n\u001b[1;32m      7\u001b[0m \u001b[0;34m\u001b[0m\u001b[0m\n\u001b[0;32m----> 8\u001b[0;31m \u001b[0;32mwith\u001b[0m \u001b[0mopen\u001b[0m\u001b[0;34m(\u001b[0m\u001b[0mimport_file\u001b[0m\u001b[0;34m,\u001b[0m \u001b[0;34m\"r\"\u001b[0m\u001b[0;34m)\u001b[0m \u001b[0;32mas\u001b[0m \u001b[0mfile\u001b[0m\u001b[0;34m:\u001b[0m\u001b[0;34m\u001b[0m\u001b[0;34m\u001b[0m\u001b[0m\n\u001b[0m\u001b[1;32m      9\u001b[0m \u001b[0;34m\u001b[0m\u001b[0m\n\u001b[1;32m     10\u001b[0m   \u001b[0;31m# Use `.read()` to read the imported file and store the result in a variable named `text`\u001b[0m\u001b[0;34m\u001b[0m\u001b[0;34m\u001b[0m\u001b[0m\n",
            "\u001b[0;31mFileNotFoundError\u001b[0m: [Errno 2] No such file or directory: 'data/login.txt'"
          ]
        }
      ]
    },
    {
      "cell_type": "code",
      "source": [
        "# Assign `import_file` to the name of the text file that contains the security log file\n",
        "\n",
        "import_file = \"data/login.txt\"\n",
        "\n",
        "# Assign `missing entry` to a log that was not recorded in the log file\n",
        "\n",
        "missing_entry = \"jrafael,192.168.243.140,4:56:27,2022-05-09\"\n",
        "\n",
        "# Use `open()` to import security log file and store it as a string\n",
        "# Pass in \"a\" as the second parameter to indicate that the file is being opened for appending purposes\n",
        "\n",
        "with open(import_file, \"a\") as file:\n",
        "\n",
        "    # Use `.write()` to append `missing_entry` to the log file\n",
        "\n",
        "    file.write(missing_entry)\n",
        "\n",
        "# Use `open()` with the parameter \"r\" to open the security log file for reading purposes\n",
        "\n",
        "with open(import_file, \"r\") as file:\n",
        "\n",
        "    # Use `.read()` to read in the contents of the log file and store in a variable named `text`\n",
        "\n",
        "    text = file.read()\n",
        "\n",
        "# Display the contents of `text`\n",
        "\n",
        "print(text)"
      ],
      "metadata": {
        "colab": {
          "base_uri": "https://localhost:8080/",
          "height": 235
        },
        "id": "d_OxQgVPzzwj",
        "outputId": "a3b69c1a-148b-49d8-f911-616cf03df2e1"
      },
      "execution_count": 17,
      "outputs": [
        {
          "output_type": "error",
          "ename": "FileNotFoundError",
          "evalue": "[Errno 2] No such file or directory: 'data/login.txt'",
          "traceback": [
            "\u001b[0;31m---------------------------------------------------------------------------\u001b[0m",
            "\u001b[0;31mFileNotFoundError\u001b[0m                         Traceback (most recent call last)",
            "\u001b[0;32m<ipython-input-17-38638daf6f4b>\u001b[0m in \u001b[0;36m<cell line: 12>\u001b[0;34m()\u001b[0m\n\u001b[1;32m     10\u001b[0m \u001b[0;31m# Pass in \"a\" as the second parameter to indicate that the file is being opened for appending purposes\u001b[0m\u001b[0;34m\u001b[0m\u001b[0;34m\u001b[0m\u001b[0m\n\u001b[1;32m     11\u001b[0m \u001b[0;34m\u001b[0m\u001b[0m\n\u001b[0;32m---> 12\u001b[0;31m \u001b[0;32mwith\u001b[0m \u001b[0mopen\u001b[0m\u001b[0;34m(\u001b[0m\u001b[0mimport_file\u001b[0m\u001b[0;34m,\u001b[0m \u001b[0;34m\"a\"\u001b[0m\u001b[0;34m)\u001b[0m \u001b[0;32mas\u001b[0m \u001b[0mfile\u001b[0m\u001b[0;34m:\u001b[0m\u001b[0;34m\u001b[0m\u001b[0;34m\u001b[0m\u001b[0m\n\u001b[0m\u001b[1;32m     13\u001b[0m \u001b[0;34m\u001b[0m\u001b[0m\n\u001b[1;32m     14\u001b[0m     \u001b[0;31m# Use `.write()` to append `missing_entry` to the log file\u001b[0m\u001b[0;34m\u001b[0m\u001b[0;34m\u001b[0m\u001b[0m\n",
            "\u001b[0;31mFileNotFoundError\u001b[0m: [Errno 2] No such file or directory: 'data/login.txt'"
          ]
        }
      ]
    },
    {
      "cell_type": "code",
      "source": [
        "# Assign `import_file` to the name of the text file that you want to create\n",
        "\n",
        "import_file = \"data/allow_list.txt\"\n",
        "\n",
        "# Assign `ip_addresses` to a list of IP addresses that are allowed to access the restricted information\n",
        "\n",
        "ip_addresses = \"192.168.218.160 192.168.97.225 192.168.145.158 192.168.108.13 192.168.60.153 192.168.96.200 192.168.247.153 192.168.3.252 192.168.116.187 192.168.15.110 192.168.39.246\"\n",
        "\n",
        "# Create a `with` statement to write to the text file\n",
        "\n",
        "with open(import_file, \"w\") as file:\n",
        "\n",
        "    # Write `ip_addresses` to the text file\n",
        "\n",
        "    file.write(ip_addresses)\n",
        "\n",
        "# Create a `with` statement to read in the text file\n",
        "\n",
        "with open(import_file, \"r\") as file:\n",
        "\n",
        "    # Read the file and store the result in a variable named `text`\n",
        "\n",
        "    text = file.read()\n",
        "\n",
        "# Display the contents of `text`\n",
        "\n",
        "print(text)"
      ],
      "metadata": {
        "colab": {
          "base_uri": "https://localhost:8080/",
          "height": 235
        },
        "id": "h0iof7fhz4uz",
        "outputId": "aa4a362d-d453-455c-fabe-818d57a22b83"
      },
      "execution_count": 18,
      "outputs": [
        {
          "output_type": "error",
          "ename": "FileNotFoundError",
          "evalue": "[Errno 2] No such file or directory: 'data/allow_list.txt'",
          "traceback": [
            "\u001b[0;31m---------------------------------------------------------------------------\u001b[0m",
            "\u001b[0;31mFileNotFoundError\u001b[0m                         Traceback (most recent call last)",
            "\u001b[0;32m<ipython-input-18-b419fcb93858>\u001b[0m in \u001b[0;36m<cell line: 11>\u001b[0;34m()\u001b[0m\n\u001b[1;32m      9\u001b[0m \u001b[0;31m# Create a `with` statement to write to the text file\u001b[0m\u001b[0;34m\u001b[0m\u001b[0;34m\u001b[0m\u001b[0m\n\u001b[1;32m     10\u001b[0m \u001b[0;34m\u001b[0m\u001b[0m\n\u001b[0;32m---> 11\u001b[0;31m \u001b[0;32mwith\u001b[0m \u001b[0mopen\u001b[0m\u001b[0;34m(\u001b[0m\u001b[0mimport_file\u001b[0m\u001b[0;34m,\u001b[0m \u001b[0;34m\"w\"\u001b[0m\u001b[0;34m)\u001b[0m \u001b[0;32mas\u001b[0m \u001b[0mfile\u001b[0m\u001b[0;34m:\u001b[0m\u001b[0;34m\u001b[0m\u001b[0;34m\u001b[0m\u001b[0m\n\u001b[0m\u001b[1;32m     12\u001b[0m \u001b[0;34m\u001b[0m\u001b[0m\n\u001b[1;32m     13\u001b[0m     \u001b[0;31m# Write `ip_addresses` to the text file\u001b[0m\u001b[0;34m\u001b[0m\u001b[0;34m\u001b[0m\u001b[0m\n",
            "\u001b[0;31mFileNotFoundError\u001b[0m: [Errno 2] No such file or directory: 'data/allow_list.txt'"
          ]
        }
      ]
    }
  ]
}