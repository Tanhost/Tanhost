{
  "nbformat": 4,
  "nbformat_minor": 0,
  "metadata": {
    "colab": {
      "provenance": [],
      "authorship_tag": "ABX9TyOADsMMP1aTMJuz3iQu7FMY",
      "include_colab_link": true
    },
    "kernelspec": {
      "name": "python3",
      "display_name": "Python 3"
    },
    "language_info": {
      "name": "python"
    }
  },
  "cells": [
    {
      "cell_type": "markdown",
      "metadata": {
        "id": "view-in-github",
        "colab_type": "text"
      },
      "source": [
        "<a href=\"https://colab.research.google.com/github/Tanhost/Tanhost/blob/main/lesson12.ipynb\" target=\"_parent\"><img src=\"https://colab.research.google.com/assets/colab-badge.svg\" alt=\"Open In Colab\"/></a>"
      ]
    },
    {
      "cell_type": "code",
      "execution_count": 1,
      "metadata": {
        "colab": {
          "base_uri": "https://localhost:8080/"
        },
        "id": "h1dqRxcdG7Y5",
        "outputId": "2640df16-3605-4939-bf3d-8624e1eabc8e"
      },
      "outputs": [
        {
          "output_type": "stream",
          "name": "stdout",
          "text": [
            "allow_list.txt\n",
            "['192.168.97.225', '192.168.158.170', '192.168.201.40', '192.168.58.57']\n"
          ]
        }
      ],
      "source": [
        "# Assign `import_file` to the name of the file\n",
        "\n",
        "import_file = \"allow_list.txt\"\n",
        "\n",
        "# Assign `remove_list` to a list of IP addresses that are no longer allowed to access restricted information.\n",
        "\n",
        "remove_list = [\"192.168.97.225\", \"192.168.158.170\", \"192.168.201.40\", \"192.168.58.57\"]\n",
        "\n",
        "# Display `import_file`\n",
        "\n",
        "print(import_file)\n",
        "\n",
        "# Display `remove_list`\n",
        "\n",
        "print(remove_list)"
      ]
    },
    {
      "cell_type": "code",
      "source": [
        "# Assign `import_file` to the name of the file\n",
        "\n",
        "import_file = \"allow_list.txt\"\n",
        "\n",
        "# Assign `remove_list` to a list of IP addresses that are no longer allowed to access restricted information.\n",
        "\n",
        "remove_list = [\"192.168.97.225\", \"192.168.158.170\", \"192.168.201.40\", \"192.168.58.57\"]\n",
        "\n",
        "# First line of `with` statement\n",
        "\n",
        "with open(import_file, \"r\") as file:"
      ],
      "metadata": {
        "colab": {
          "base_uri": "https://localhost:8080/",
          "height": 128
        },
        "id": "yafqb1bVHKaO",
        "outputId": "8bfcf8cc-9d5e-4a11-e1bd-e96e97dba8ca"
      },
      "execution_count": 3,
      "outputs": [
        {
          "output_type": "error",
          "ename": "SyntaxError",
          "evalue": "incomplete input (<ipython-input-3-b925af1022fc>, line 11)",
          "traceback": [
            "\u001b[0;36m  File \u001b[0;32m\"<ipython-input-3-b925af1022fc>\"\u001b[0;36m, line \u001b[0;32m11\u001b[0m\n\u001b[0;31m    with open(import_file, \"r\") as file:\u001b[0m\n\u001b[0m                                        ^\u001b[0m\n\u001b[0;31mSyntaxError\u001b[0m\u001b[0;31m:\u001b[0m incomplete input\n"
          ]
        }
      ]
    },
    {
      "cell_type": "code",
      "source": [
        "# Assign `import_file` to the name of the file\n",
        "\n",
        "import_file = \"allow_list.txt\"\n",
        "\n",
        "# Assign `remove_list` to a list of IP addresses that are no longer allowed to access restricted information.\n",
        "\n",
        "remove_list = [\"192.168.97.225\", \"192.168.158.170\", \"192.168.201.40\", \"192.168.58.57\"]\n",
        "\n",
        "# Build `with` statement to read in the initial contents of the file\n",
        "\n",
        "with open(import_file, \"r\") as file:\n",
        "\n",
        "  # Use `.read()` to read the imported file and store it in a variable named `ip_addresses`\n",
        "\n",
        "  ip_addresses = file.read()\n",
        "\n",
        "# Display `ip_addresses`\n",
        "\n",
        "print(ip_addresses)"
      ],
      "metadata": {
        "colab": {
          "base_uri": "https://localhost:8080/",
          "height": 235
        },
        "id": "Mnbw4qLnHb-1",
        "outputId": "a2d30573-8e67-4dfd-84db-1047aff4b4b4"
      },
      "execution_count": 4,
      "outputs": [
        {
          "output_type": "error",
          "ename": "FileNotFoundError",
          "evalue": "[Errno 2] No such file or directory: 'allow_list.txt'",
          "traceback": [
            "\u001b[0;31m---------------------------------------------------------------------------\u001b[0m",
            "\u001b[0;31mFileNotFoundError\u001b[0m                         Traceback (most recent call last)",
            "\u001b[0;32m<ipython-input-4-d851b7f49047>\u001b[0m in \u001b[0;36m<cell line: 11>\u001b[0;34m()\u001b[0m\n\u001b[1;32m      9\u001b[0m \u001b[0;31m# Build `with` statement to read in the initial contents of the file\u001b[0m\u001b[0;34m\u001b[0m\u001b[0;34m\u001b[0m\u001b[0m\n\u001b[1;32m     10\u001b[0m \u001b[0;34m\u001b[0m\u001b[0m\n\u001b[0;32m---> 11\u001b[0;31m \u001b[0;32mwith\u001b[0m \u001b[0mopen\u001b[0m\u001b[0;34m(\u001b[0m\u001b[0mimport_file\u001b[0m\u001b[0;34m,\u001b[0m \u001b[0;34m\"r\"\u001b[0m\u001b[0;34m)\u001b[0m \u001b[0;32mas\u001b[0m \u001b[0mfile\u001b[0m\u001b[0;34m:\u001b[0m\u001b[0;34m\u001b[0m\u001b[0;34m\u001b[0m\u001b[0m\n\u001b[0m\u001b[1;32m     12\u001b[0m \u001b[0;34m\u001b[0m\u001b[0m\n\u001b[1;32m     13\u001b[0m   \u001b[0;31m# Use `.read()` to read the imported file and store it in a variable named `ip_addresses`\u001b[0m\u001b[0;34m\u001b[0m\u001b[0;34m\u001b[0m\u001b[0m\n",
            "\u001b[0;31mFileNotFoundError\u001b[0m: [Errno 2] No such file or directory: 'allow_list.txt'"
          ]
        }
      ]
    },
    {
      "cell_type": "code",
      "source": [
        "# Assign `import_file` to the name of the file\n",
        "\n",
        "import_file = \"allow_list.txt\"\n",
        "\n",
        "# Assign `remove_list` to a list of IP addresses that are no longer allowed to access restricted information.\n",
        "\n",
        "remove_list = [\"192.168.97.225\", \"192.168.158.170\", \"192.168.201.40\", \"192.168.58.57\"]\n",
        "\n",
        "# Build `with` statement to read in the initial contents of the file\n",
        "\n",
        "with open(import_file, \"r\") as file:\n",
        "\n",
        "  # Use `.read()` to read the imported file and store it in a variable named `ip_addresses`\n",
        "\n",
        "  ip_addresses = file.read()\n",
        "\n",
        "# Use `.split()` to convert `ip_addresses` from a string to a list\n",
        "\n",
        "ip_addresses = ip_addresses.split()\n",
        "\n",
        "# Display `ip_addresses`\n",
        "\n",
        "print(ip_addresses)"
      ],
      "metadata": {
        "colab": {
          "base_uri": "https://localhost:8080/",
          "height": 235
        },
        "id": "1-4ijC8gHieW",
        "outputId": "7d303af6-0180-4d79-de1f-a6bd7378ca9d"
      },
      "execution_count": 5,
      "outputs": [
        {
          "output_type": "error",
          "ename": "FileNotFoundError",
          "evalue": "[Errno 2] No such file or directory: 'allow_list.txt'",
          "traceback": [
            "\u001b[0;31m---------------------------------------------------------------------------\u001b[0m",
            "\u001b[0;31mFileNotFoundError\u001b[0m                         Traceback (most recent call last)",
            "\u001b[0;32m<ipython-input-5-b7102b7e46cb>\u001b[0m in \u001b[0;36m<cell line: 11>\u001b[0;34m()\u001b[0m\n\u001b[1;32m      9\u001b[0m \u001b[0;31m# Build `with` statement to read in the initial contents of the file\u001b[0m\u001b[0;34m\u001b[0m\u001b[0;34m\u001b[0m\u001b[0m\n\u001b[1;32m     10\u001b[0m \u001b[0;34m\u001b[0m\u001b[0m\n\u001b[0;32m---> 11\u001b[0;31m \u001b[0;32mwith\u001b[0m \u001b[0mopen\u001b[0m\u001b[0;34m(\u001b[0m\u001b[0mimport_file\u001b[0m\u001b[0;34m,\u001b[0m \u001b[0;34m\"r\"\u001b[0m\u001b[0;34m)\u001b[0m \u001b[0;32mas\u001b[0m \u001b[0mfile\u001b[0m\u001b[0;34m:\u001b[0m\u001b[0;34m\u001b[0m\u001b[0;34m\u001b[0m\u001b[0m\n\u001b[0m\u001b[1;32m     12\u001b[0m \u001b[0;34m\u001b[0m\u001b[0m\n\u001b[1;32m     13\u001b[0m   \u001b[0;31m# Use `.read()` to read the imported file and store it in a variable named `ip_addresses`\u001b[0m\u001b[0;34m\u001b[0m\u001b[0;34m\u001b[0m\u001b[0m\n",
            "\u001b[0;31mFileNotFoundError\u001b[0m: [Errno 2] No such file or directory: 'allow_list.txt'"
          ]
        }
      ]
    },
    {
      "cell_type": "code",
      "source": [
        "# Assign `import_file` to the name of the file\n",
        "\n",
        "import_file = \"allow_list.txt\"\n",
        "\n",
        "# Assign `remove_list` to a list of IP addresses that are no longer allowed to access restricted information.\n",
        "\n",
        "remove_list = [\"192.168.97.225\", \"192.168.158.170\", \"192.168.201.40\", \"192.168.58.57\"]\n",
        "\n",
        "# Build `with` statement to read in the initial contents of the file\n",
        "\n",
        "with open(import_file, \"r\") as file:\n",
        "\n",
        "  # Use `.read()` to read the imported file and store it in a variable named `ip_addresses`\n",
        "\n",
        "  ip_addresses = file.read()\n",
        "\n",
        "# Use `.split()` to convert `ip_addresses` from a string to a list\n",
        "\n",
        "ip_addresses = ip_addresses.split()\n",
        "\n",
        "# Build iterative statement\n",
        "# Name loop variable `element`\n",
        "# Loop through `ip_addresses`\n",
        "\n",
        "for element in ip_addresses:\n",
        "\n",
        "    # Display `element` in every iteration\n",
        "\n",
        "    print(element)"
      ],
      "metadata": {
        "colab": {
          "base_uri": "https://localhost:8080/",
          "height": 235
        },
        "id": "pQMmo7enHj_F",
        "outputId": "64cc86db-b6a0-4996-884f-85297e4d9a16"
      },
      "execution_count": 6,
      "outputs": [
        {
          "output_type": "error",
          "ename": "FileNotFoundError",
          "evalue": "[Errno 2] No such file or directory: 'allow_list.txt'",
          "traceback": [
            "\u001b[0;31m---------------------------------------------------------------------------\u001b[0m",
            "\u001b[0;31mFileNotFoundError\u001b[0m                         Traceback (most recent call last)",
            "\u001b[0;32m<ipython-input-6-4bcf9971268c>\u001b[0m in \u001b[0;36m<cell line: 11>\u001b[0;34m()\u001b[0m\n\u001b[1;32m      9\u001b[0m \u001b[0;31m# Build `with` statement to read in the initial contents of the file\u001b[0m\u001b[0;34m\u001b[0m\u001b[0;34m\u001b[0m\u001b[0m\n\u001b[1;32m     10\u001b[0m \u001b[0;34m\u001b[0m\u001b[0m\n\u001b[0;32m---> 11\u001b[0;31m \u001b[0;32mwith\u001b[0m \u001b[0mopen\u001b[0m\u001b[0;34m(\u001b[0m\u001b[0mimport_file\u001b[0m\u001b[0;34m,\u001b[0m \u001b[0;34m\"r\"\u001b[0m\u001b[0;34m)\u001b[0m \u001b[0;32mas\u001b[0m \u001b[0mfile\u001b[0m\u001b[0;34m:\u001b[0m\u001b[0;34m\u001b[0m\u001b[0;34m\u001b[0m\u001b[0m\n\u001b[0m\u001b[1;32m     12\u001b[0m \u001b[0;34m\u001b[0m\u001b[0m\n\u001b[1;32m     13\u001b[0m   \u001b[0;31m# Use `.read()` to read the imported file and store it in a variable named `ip_addresses`\u001b[0m\u001b[0;34m\u001b[0m\u001b[0;34m\u001b[0m\u001b[0m\n",
            "\u001b[0;31mFileNotFoundError\u001b[0m: [Errno 2] No such file or directory: 'allow_list.txt'"
          ]
        }
      ]
    },
    {
      "cell_type": "code",
      "source": [
        "# Assign `import_file` to the name of the file\n",
        "\n",
        "import_file = \"allow_list.txt\"\n",
        "\n",
        "# Assign `remove_list` to a list of IP addresses that are no longer allowed to access restricted information.\n",
        "\n",
        "remove_list = [\"192.168.97.225\", \"192.168.158.170\", \"192.168.201.40\", \"192.168.58.57\"]\n",
        "\n",
        "# Build `with` statement to read in the initial contents of the file\n",
        "\n",
        "with open(import_file, \"r\") as file:\n",
        "\n",
        "  # Use `.read()` to read the imported file and store it in a variable named `ip_addresses`\n",
        "\n",
        "  ip_addresses = file.read()\n",
        "\n",
        "# Use `.split()` to convert `ip_addresses` from a string to a list\n",
        "\n",
        "ip_addresses = ip_addresses.split()\n",
        "\n",
        "# Build iterative statement\n",
        "# Name loop variable `element`\n",
        "# Loop through `ip_addresses`\n",
        "\n",
        "for element in ip_addresses:\n",
        "\n",
        "  # Build conditional statement\n",
        "  # If current element is in `remove_list`,\n",
        "\n",
        "    if element in remove_list:\n",
        "\n",
        "        # then current element should be removed from `ip_addresses`\n",
        "\n",
        "        ip_addresses.remove(element)\n",
        "\n",
        "# Display `ip_addresses`\n",
        "\n",
        "print(ip_addresses)\n"
      ],
      "metadata": {
        "colab": {
          "base_uri": "https://localhost:8080/",
          "height": 235
        },
        "id": "_sCkrNyjHpvF",
        "outputId": "7f4e4120-9993-4757-b17e-6bada352732c"
      },
      "execution_count": 7,
      "outputs": [
        {
          "output_type": "error",
          "ename": "FileNotFoundError",
          "evalue": "[Errno 2] No such file or directory: 'allow_list.txt'",
          "traceback": [
            "\u001b[0;31m---------------------------------------------------------------------------\u001b[0m",
            "\u001b[0;31mFileNotFoundError\u001b[0m                         Traceback (most recent call last)",
            "\u001b[0;32m<ipython-input-7-3a9ae98ee5fe>\u001b[0m in \u001b[0;36m<cell line: 11>\u001b[0;34m()\u001b[0m\n\u001b[1;32m      9\u001b[0m \u001b[0;31m# Build `with` statement to read in the initial contents of the file\u001b[0m\u001b[0;34m\u001b[0m\u001b[0;34m\u001b[0m\u001b[0m\n\u001b[1;32m     10\u001b[0m \u001b[0;34m\u001b[0m\u001b[0m\n\u001b[0;32m---> 11\u001b[0;31m \u001b[0;32mwith\u001b[0m \u001b[0mopen\u001b[0m\u001b[0;34m(\u001b[0m\u001b[0mimport_file\u001b[0m\u001b[0;34m,\u001b[0m \u001b[0;34m\"r\"\u001b[0m\u001b[0;34m)\u001b[0m \u001b[0;32mas\u001b[0m \u001b[0mfile\u001b[0m\u001b[0;34m:\u001b[0m\u001b[0;34m\u001b[0m\u001b[0;34m\u001b[0m\u001b[0m\n\u001b[0m\u001b[1;32m     12\u001b[0m \u001b[0;34m\u001b[0m\u001b[0m\n\u001b[1;32m     13\u001b[0m   \u001b[0;31m# Use `.read()` to read the imported file and store it in a variable named `ip_addresses`\u001b[0m\u001b[0;34m\u001b[0m\u001b[0;34m\u001b[0m\u001b[0m\n",
            "\u001b[0;31mFileNotFoundError\u001b[0m: [Errno 2] No such file or directory: 'allow_list.txt'"
          ]
        }
      ]
    },
    {
      "cell_type": "code",
      "source": [
        "# Assign `import_file` to the name of the file\n",
        "\n",
        "import_file = \"allow_list.txt\"\n",
        "\n",
        "# Assign `remove_list` to a list of IP addresses that are no longer allowed to access restricted information.\n",
        "\n",
        "remove_list = [\"192.168.97.225\", \"192.168.158.170\", \"192.168.201.40\", \"192.168.58.57\"]\n",
        "\n",
        "# Build `with` statement to read in the initial contents of the file\n",
        "\n",
        "with open(import_file, \"r\") as file:\n",
        "\n",
        "  # Use `.read()` to read the imported file and store it in a variable named `ip_addresses`\n",
        "\n",
        "  ip_addresses = file.read()\n",
        "\n",
        "# Use `.split()` to convert `ip_addresses` from a string to a list\n",
        "\n",
        "ip_addresses = ip_addresses.split()\n",
        "\n",
        "# Build iterative statement\n",
        "# Name loop variable `element`\n",
        "# Loop through `ip_addresses`\n",
        "\n",
        "for element in ip_addresses:\n",
        "\n",
        "  # Build conditional statement\n",
        "  # If current element is in `remove_list`,\n",
        "\n",
        "    if element in remove_list:\n",
        "\n",
        "        # then current element should be removed from `ip_addresses`\n",
        "\n",
        "        ip_addresses.remove(element)\n",
        "\n",
        "# Convert `ip_addresses` back to a string so that it can be written into the text file\n",
        "\n",
        "ip_addresses = \" \".join(ip_addresses)\n",
        "\n",
        "# Build `with` statement to rewrite the original file\n",
        "\n",
        "with open(import_file, \"w\") as file:\n",
        "\n",
        "  # Rewrite the file, replacing its contents with `ip_addresses`\n",
        "\n",
        "  file.write(ip_addresses)"
      ],
      "metadata": {
        "colab": {
          "base_uri": "https://localhost:8080/",
          "height": 235
        },
        "id": "MmlBMluqHtYm",
        "outputId": "2e59fab4-87fd-4a51-b335-251b4e1e9dd8"
      },
      "execution_count": 8,
      "outputs": [
        {
          "output_type": "error",
          "ename": "FileNotFoundError",
          "evalue": "[Errno 2] No such file or directory: 'allow_list.txt'",
          "traceback": [
            "\u001b[0;31m---------------------------------------------------------------------------\u001b[0m",
            "\u001b[0;31mFileNotFoundError\u001b[0m                         Traceback (most recent call last)",
            "\u001b[0;32m<ipython-input-8-ce1e57f03df6>\u001b[0m in \u001b[0;36m<cell line: 11>\u001b[0;34m()\u001b[0m\n\u001b[1;32m      9\u001b[0m \u001b[0;31m# Build `with` statement to read in the initial contents of the file\u001b[0m\u001b[0;34m\u001b[0m\u001b[0;34m\u001b[0m\u001b[0m\n\u001b[1;32m     10\u001b[0m \u001b[0;34m\u001b[0m\u001b[0m\n\u001b[0;32m---> 11\u001b[0;31m \u001b[0;32mwith\u001b[0m \u001b[0mopen\u001b[0m\u001b[0;34m(\u001b[0m\u001b[0mimport_file\u001b[0m\u001b[0;34m,\u001b[0m \u001b[0;34m\"r\"\u001b[0m\u001b[0;34m)\u001b[0m \u001b[0;32mas\u001b[0m \u001b[0mfile\u001b[0m\u001b[0;34m:\u001b[0m\u001b[0;34m\u001b[0m\u001b[0;34m\u001b[0m\u001b[0m\n\u001b[0m\u001b[1;32m     12\u001b[0m \u001b[0;34m\u001b[0m\u001b[0m\n\u001b[1;32m     13\u001b[0m   \u001b[0;31m# Use `.read()` to read the imported file and store it in a variable named `ip_addresses`\u001b[0m\u001b[0;34m\u001b[0m\u001b[0;34m\u001b[0m\u001b[0m\n",
            "\u001b[0;31mFileNotFoundError\u001b[0m: [Errno 2] No such file or directory: 'allow_list.txt'"
          ]
        }
      ]
    },
    {
      "cell_type": "code",
      "source": [
        "# Assign `import_file` to the name of the file\n",
        "\n",
        "import_file = \"allow_list.txt\"\n",
        "\n",
        "# Assign `remove_list` to a list of IP addresses that are no longer allowed to access restricted information.\n",
        "\n",
        "remove_list = [\"192.168.97.225\", \"192.168.158.170\", \"192.168.201.40\", \"192.168.58.57\"]\n",
        "\n",
        "# Build `with` statement to read in the initial contents of the file\n",
        "\n",
        "with open(import_file, \"r\") as file:\n",
        "\n",
        "  # Use `.read()` to read the imported file and store it in a variable named `ip_addresses`\n",
        "\n",
        "  ip_addresses = file.read()\n",
        "\n",
        "# Use `.split()` to convert `ip_addresses` from a string to a list\n",
        "\n",
        "ip_addresses = ip_addresses.split()\n",
        "\n",
        "# Build iterative statement\n",
        "# Name loop variable `element`\n",
        "# Loop through `ip_addresses`\n",
        "\n",
        "for element in ip_addresses:\n",
        "\n",
        "  # Build conditional statement\n",
        "  # If current element is in `remove_list`,\n",
        "\n",
        "    if element in remove_list:\n",
        "\n",
        "        # then current element should be removed from `ip_addresses`\n",
        "\n",
        "        ip_addresses.remove(element)\n",
        "\n",
        "# Convert `ip_addresses` back to a string so that it can be written into the text file\n",
        "\n",
        "ip_addresses = \" \".join(ip_addresses)\n",
        "\n",
        "# Build `with` statement to rewrite the original file\n",
        "\n",
        "with open(import_file, \"w\") as file:\n",
        "\n",
        "  # Rewrite the file, replacing its contents with `ip_addresses`\n",
        "\n",
        "  file.write(ip_addresses)\n",
        "\n",
        "# Build `with` statement to read in the updated file\n",
        "\n",
        "with open(import_file, \"r\") as file:\n",
        "\n",
        "    # Read in the updated file and store the contents in `text`\n",
        "\n",
        "    text = file.read()\n",
        "\n",
        "# Display the contents of `text`\n",
        "\n",
        "print(text)"
      ],
      "metadata": {
        "colab": {
          "base_uri": "https://localhost:8080/",
          "height": 235
        },
        "id": "X1ECqZGBHxLp",
        "outputId": "fa7a24d5-4e12-4aa7-c300-da4b8e42fdde"
      },
      "execution_count": 9,
      "outputs": [
        {
          "output_type": "error",
          "ename": "FileNotFoundError",
          "evalue": "[Errno 2] No such file or directory: 'allow_list.txt'",
          "traceback": [
            "\u001b[0;31m---------------------------------------------------------------------------\u001b[0m",
            "\u001b[0;31mFileNotFoundError\u001b[0m                         Traceback (most recent call last)",
            "\u001b[0;32m<ipython-input-9-47b321efadf8>\u001b[0m in \u001b[0;36m<cell line: 11>\u001b[0;34m()\u001b[0m\n\u001b[1;32m      9\u001b[0m \u001b[0;31m# Build `with` statement to read in the initial contents of the file\u001b[0m\u001b[0;34m\u001b[0m\u001b[0;34m\u001b[0m\u001b[0m\n\u001b[1;32m     10\u001b[0m \u001b[0;34m\u001b[0m\u001b[0m\n\u001b[0;32m---> 11\u001b[0;31m \u001b[0;32mwith\u001b[0m \u001b[0mopen\u001b[0m\u001b[0;34m(\u001b[0m\u001b[0mimport_file\u001b[0m\u001b[0;34m,\u001b[0m \u001b[0;34m\"r\"\u001b[0m\u001b[0;34m)\u001b[0m \u001b[0;32mas\u001b[0m \u001b[0mfile\u001b[0m\u001b[0;34m:\u001b[0m\u001b[0;34m\u001b[0m\u001b[0;34m\u001b[0m\u001b[0m\n\u001b[0m\u001b[1;32m     12\u001b[0m \u001b[0;34m\u001b[0m\u001b[0m\n\u001b[1;32m     13\u001b[0m   \u001b[0;31m# Use `.read()` to read the imported file and store it in a variable named `ip_addresses`\u001b[0m\u001b[0;34m\u001b[0m\u001b[0;34m\u001b[0m\u001b[0m\n",
            "\u001b[0;31mFileNotFoundError\u001b[0m: [Errno 2] No such file or directory: 'allow_list.txt'"
          ]
        }
      ]
    },
    {
      "cell_type": "code",
      "source": [
        "# Define a function named `update_file` that takes in two parameters: `import_file` and `remove_list`\n",
        "# and combines the steps you've written in this lab leading up to this\n",
        "\n",
        "def update_file(import_file, remove_list):\n",
        "\n",
        "  # Build `with` statement to read in the initial contents of the file\n",
        "\n",
        "  with open(import_file, \"r\") as file:\n",
        "\n",
        "    # Use `.read()` to read the imported file and store it in a variable named `ip_addresses`\n",
        "\n",
        "    ip_addresses = file.read()\n",
        "\n",
        "  # Use `.split()` to convert `ip_addresses` from a string to a list\n",
        "\n",
        "  ip_addresses = ip_addresses.split()\n",
        "\n",
        "  # Build iterative statement\n",
        "  # Name loop variable `element`\n",
        "  # Loop through `ip_addresses`\n",
        "\n",
        "  for element in ip_addresses:\n",
        "\n",
        "    # Build conditional statement\n",
        "    # If current element is in `remove_list`,\n",
        "\n",
        "    if element in remove_list:\n",
        "\n",
        "      # then current element should be removed from `ip_addresses`\n",
        "\n",
        "      ip_addresses.remove(element)\n",
        "\n",
        "  # Convert `ip_addresses` back to a string so that it can be written into the text file\n",
        "\n",
        "  ip_addresses = \" \".join(ip_addresses)\n",
        "\n",
        "  # Build `with` statement to rewrite the original file\n",
        "\n",
        "  with open(import_file, \"w\") as file:\n",
        "\n",
        "    # Rewrite the file, replacing its contents with `ip_addresses`\n",
        "\n",
        "    file.write(ip_addresses)\n",
        "\n",
        "# Call `update_file()` and pass in \"allow_list.txt\" and a list of IP addresses to be removed\n",
        "\n",
        "update_file(\"allow_list.txt\", [\"192.168.25.60\", \"192.168.140.81\", \"192.168.203.198\"])\n",
        "\n",
        "# Build `with` statement to read in the updated file\n",
        "\n",
        "with open(\"allow_list.txt\", \"r\") as file:\n",
        "\n",
        "  # Read in the updated file and store the contents in `text`\n",
        "\n",
        "  text = file.read()\n",
        "\n",
        "# Display the contents of `text`\n",
        "\n",
        "print(text)"
      ],
      "metadata": {
        "colab": {
          "base_uri": "https://localhost:8080/",
          "height": 359
        },
        "id": "EShl4Z3FH2Il",
        "outputId": "8b92497f-5b9e-4d2f-c15a-83e0ad98cc1d"
      },
      "execution_count": 10,
      "outputs": [
        {
          "output_type": "error",
          "ename": "FileNotFoundError",
          "evalue": "[Errno 2] No such file or directory: 'allow_list.txt'",
          "traceback": [
            "\u001b[0;31m---------------------------------------------------------------------------\u001b[0m",
            "\u001b[0;31mFileNotFoundError\u001b[0m                         Traceback (most recent call last)",
            "\u001b[0;32m<ipython-input-10-fa355bafbc24>\u001b[0m in \u001b[0;36m<cell line: 47>\u001b[0;34m()\u001b[0m\n\u001b[1;32m     45\u001b[0m \u001b[0;31m# Call `update_file()` and pass in \"allow_list.txt\" and a list of IP addresses to be removed\u001b[0m\u001b[0;34m\u001b[0m\u001b[0;34m\u001b[0m\u001b[0m\n\u001b[1;32m     46\u001b[0m \u001b[0;34m\u001b[0m\u001b[0m\n\u001b[0;32m---> 47\u001b[0;31m \u001b[0mupdate_file\u001b[0m\u001b[0;34m(\u001b[0m\u001b[0;34m\"allow_list.txt\"\u001b[0m\u001b[0;34m,\u001b[0m \u001b[0;34m[\u001b[0m\u001b[0;34m\"192.168.25.60\"\u001b[0m\u001b[0;34m,\u001b[0m \u001b[0;34m\"192.168.140.81\"\u001b[0m\u001b[0;34m,\u001b[0m \u001b[0;34m\"192.168.203.198\"\u001b[0m\u001b[0;34m]\u001b[0m\u001b[0;34m)\u001b[0m\u001b[0;34m\u001b[0m\u001b[0;34m\u001b[0m\u001b[0m\n\u001b[0m\u001b[1;32m     48\u001b[0m \u001b[0;34m\u001b[0m\u001b[0m\n\u001b[1;32m     49\u001b[0m \u001b[0;31m# Build `with` statement to read in the updated file\u001b[0m\u001b[0;34m\u001b[0m\u001b[0;34m\u001b[0m\u001b[0m\n",
            "\u001b[0;32m<ipython-input-10-fa355bafbc24>\u001b[0m in \u001b[0;36mupdate_file\u001b[0;34m(import_file, remove_list)\u001b[0m\n\u001b[1;32m      6\u001b[0m   \u001b[0;31m# Build `with` statement to read in the initial contents of the file\u001b[0m\u001b[0;34m\u001b[0m\u001b[0;34m\u001b[0m\u001b[0m\n\u001b[1;32m      7\u001b[0m \u001b[0;34m\u001b[0m\u001b[0m\n\u001b[0;32m----> 8\u001b[0;31m   \u001b[0;32mwith\u001b[0m \u001b[0mopen\u001b[0m\u001b[0;34m(\u001b[0m\u001b[0mimport_file\u001b[0m\u001b[0;34m,\u001b[0m \u001b[0;34m\"r\"\u001b[0m\u001b[0;34m)\u001b[0m \u001b[0;32mas\u001b[0m \u001b[0mfile\u001b[0m\u001b[0;34m:\u001b[0m\u001b[0;34m\u001b[0m\u001b[0;34m\u001b[0m\u001b[0m\n\u001b[0m\u001b[1;32m      9\u001b[0m \u001b[0;34m\u001b[0m\u001b[0m\n\u001b[1;32m     10\u001b[0m     \u001b[0;31m# Use `.read()` to read the imported file and store it in a variable named `ip_addresses`\u001b[0m\u001b[0;34m\u001b[0m\u001b[0;34m\u001b[0m\u001b[0m\n",
            "\u001b[0;31mFileNotFoundError\u001b[0m: [Errno 2] No such file or directory: 'allow_list.txt'"
          ]
        }
      ]
    }
  ]
}