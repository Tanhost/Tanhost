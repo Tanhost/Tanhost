{
  "nbformat": 4,
  "nbformat_minor": 0,
  "metadata": {
    "colab": {
      "provenance": [],
      "authorship_tag": "ABX9TyP7GDgqXn3b3heQMS5KxPOF",
      "include_colab_link": true
    },
    "kernelspec": {
      "name": "python3",
      "display_name": "Python 3"
    },
    "language_info": {
      "name": "python"
    }
  },
  "cells": [
    {
      "cell_type": "markdown",
      "metadata": {
        "id": "view-in-github",
        "colab_type": "text"
      },
      "source": [
        "<a href=\"https://colab.research.google.com/github/Tanhost/Tanhost/blob/main/lesson4.ipynb\" target=\"_parent\"><img src=\"https://colab.research.google.com/assets/colab-badge.svg\" alt=\"Open In Colab\"/></a>"
      ]
    },
    {
      "cell_type": "code",
      "execution_count": null,
      "metadata": {
        "colab": {
          "base_uri": "https://localhost:8080/"
        },
        "id": "m081ObKUo278",
        "outputId": "b9c05eda-2809-4bbc-d77a-95c13252f625"
      },
      "outputs": [
        {
          "output_type": "stream",
          "name": "stdout",
          "text": [
            "Welcome to the jungle. You're logged in!\n"
          ]
        }
      ],
      "source": [
        "#definir uma função\n",
        "def greet_employee():\n",
        "  print(\"Welcome to the jungle. You're logged in!\")\n",
        "\n",
        "#chamar uma função\n",
        "greet_employee()"
      ]
    },
    {
      "cell_type": "code",
      "source": [
        "def display_investigation_message():\n",
        "  print(\"investigate activity\")\n",
        "\n",
        "display_investigation_message()"
      ],
      "metadata": {
        "colab": {
          "base_uri": "https://localhost:8080/"
        },
        "id": "abHZ-XVoqhjK",
        "outputId": "89a6c2a5-df37-4229-da98-419ca1afb849"
      },
      "execution_count": null,
      "outputs": [
        {
          "output_type": "stream",
          "name": "stdout",
          "text": [
            "investigate activity\n"
          ]
        }
      ]
    },
    {
      "cell_type": "code",
      "source": [
        "def display_investigation_message():\n",
        "    print(\"investigate activity\")\n",
        "application_status = \"potential concern\"\n",
        "email_status = \"okay\"\n",
        "if application_status == \"potential concern\":\n",
        "    print(\"application_log:\")\n",
        "    display_investigation_message()\n",
        "if email_status == \"potential concern\":\n",
        "    print(\"email log:\")\n",
        "    display_investigation_message()\n",
        "\n",
        "def func1():\n",
        "  func1()"
      ],
      "metadata": {
        "colab": {
          "base_uri": "https://localhost:8080/"
        },
        "id": "jc8Jcfo-riy-",
        "outputId": "80c13814-1843-4c3d-dc2c-7d6ab85f53ed"
      },
      "execution_count": null,
      "outputs": [
        {
          "output_type": "stream",
          "name": "stdout",
          "text": [
            "application_log:\n",
            "investigate activity\n"
          ]
        }
      ]
    },
    {
      "cell_type": "code",
      "source": [
        "# Define a function named `list_to_string()`\n",
        "\n",
        "def list_to_string():\n",
        "\n",
        "  # Store the list of approved usernames in a variable named `username_list`\n",
        "\n",
        "  username_list = [\"elarson\", \"bmoreno\", \"tshah\", \"sgilmore\", \"eraab\", \"gesparza\", \"alevitsk\", \"wjaffrey\"]\n",
        "\n",
        "  # Write a for loop that iterates through the elements of `username_list` and displays each element\n",
        "\n",
        "  for i in username_list:\n",
        "    print(i)\n",
        "\n",
        "# Call the `list_to_string()` function\n",
        "\n",
        "list_to_string()"
      ],
      "metadata": {
        "colab": {
          "base_uri": "https://localhost:8080/"
        },
        "id": "UFwy5d8crnVv",
        "outputId": "14a60239-7667-4101-8b9b-083fd51e9ff0"
      },
      "execution_count": null,
      "outputs": [
        {
          "output_type": "stream",
          "name": "stdout",
          "text": [
            "elarson\n",
            "bmoreno\n",
            "tshah\n",
            "sgilmore\n",
            "eraab\n",
            "gesparza\n",
            "alevitsk\n",
            "wjaffrey\n"
          ]
        }
      ]
    },
    {
      "cell_type": "code",
      "source": [
        "# Define a function named `list_to_string()`\n",
        "\n",
        "def list_to_string():\n",
        "\n",
        "  # Store the list of approved usernames in a variable named `username_list`\n",
        "\n",
        "  username_list = [\"elarson\", \"bmoreno\", \"tshah\", \"sgilmore\", \"eraab\", \"gesparza\", \"alevitsk\", \"wjaffrey\"]\n",
        "\n",
        "  # Assign `sum_variable` to an empty string\n",
        "\n",
        "  sum_variable = \"\"\n",
        "\n",
        "  # Write a for loop that iterates through the elements of `username_list` and displays each element\n",
        "\n",
        "  for i in username_list:\n",
        "    sum_variable = sum_variable + i\n",
        "\n",
        "  # Display the value of `sum_variable`\n",
        "\n",
        "  print(sum_variable)\n",
        "\n",
        "# Call the `list_to_string()` function\n",
        "\n",
        "list_to_string()"
      ],
      "metadata": {
        "colab": {
          "base_uri": "https://localhost:8080/"
        },
        "id": "mlRlALRMzWcp",
        "outputId": "378f3475-d1ba-44b8-a68f-ccda9f13206e"
      },
      "execution_count": null,
      "outputs": [
        {
          "output_type": "stream",
          "name": "stdout",
          "text": [
            "elarsonbmorenotshahsgilmoreeraabgesparzaalevitskwjaffrey\n"
          ]
        }
      ]
    },
    {
      "cell_type": "code",
      "source": [
        "# Define a function named `list_to_string()`\n",
        "\n",
        "def list_to_string():\n",
        "\n",
        "  # Store the list of approved usernames in a variable named `username_list`\n",
        "\n",
        "  username_list = [\"elarson\", \"bmoreno\", \"tshah\", \"sgilmore\", \"eraab\", \"gesparza\", \"alevitsk\", \"wjaffrey\"]\n",
        "\n",
        "  # Assign `sum_variable` to an empty string\n",
        "\n",
        "  sum_variable = \"\"\n",
        "\n",
        "  # Write a for loop that iterates through the elements of `username_list` and displays each element\n",
        "\n",
        "  for i in username_list:\n",
        "    sum_variable = sum_variable + i + \", \"\n",
        "\n",
        "  # Display the value of `sum_variable`\n",
        "\n",
        "  print(sum_variable)\n",
        "\n",
        "# Call the `list_to_string()` function\n",
        "\n",
        "list_to_string()"
      ],
      "metadata": {
        "colab": {
          "base_uri": "https://localhost:8080/"
        },
        "id": "VqzXyGQ3zblI",
        "outputId": "fab93cdd-1add-4908-96a4-e6618fc23b9a"
      },
      "execution_count": null,
      "outputs": [
        {
          "output_type": "stream",
          "name": "stdout",
          "text": [
            "elarson, bmoreno, tshah, sgilmore, eraab, gesparza, alevitsk, wjaffrey, \n"
          ]
        }
      ]
    },
    {
      "cell_type": "code",
      "source": [],
      "metadata": {
        "id": "VD0wYepTziCJ"
      },
      "execution_count": null,
      "outputs": []
    }
  ]
}