{
  "nbformat": 4,
  "nbformat_minor": 0,
  "metadata": {
    "colab": {
      "provenance": [],
      "authorship_tag": "ABX9TyO8DmYL8PnqqWIWQUkD7JTX",
      "include_colab_link": true
    },
    "kernelspec": {
      "name": "python3",
      "display_name": "Python 3"
    },
    "language_info": {
      "name": "python"
    }
  },
  "cells": [
    {
      "cell_type": "markdown",
      "metadata": {
        "id": "view-in-github",
        "colab_type": "text"
      },
      "source": [
        "<a href=\"https://colab.research.google.com/github/Tanhost/Tanhost/blob/main/lesson6.ipynb\" target=\"_parent\"><img src=\"https://colab.research.google.com/assets/colab-badge.svg\" alt=\"Open In Colab\"/></a>"
      ]
    },
    {
      "cell_type": "code",
      "execution_count": 7,
      "metadata": {
        "colab": {
          "base_uri": "https://localhost:8080/"
        },
        "id": "m081ObKUo278",
        "outputId": "b9c05eda-2809-4bbc-d77a-95c13252f625"
      },
      "outputs": [
        {
          "output_type": "stream",
          "name": "stdout",
          "text": [
            "Welcome to the jungle. You're logged in!\n"
          ]
        }
      ],
      "source": [
        "#definir uma função\n",
        "def greet_employee():\n",
        "  print(\"Welcome to the jungle. You're logged in!\")\n",
        "\n",
        "#chamar uma função\n",
        "greet_employee()"
      ]
    },
    {
      "cell_type": "code",
      "source": [
        "def display_investigation_message():\n",
        "  print(\"investigate activity\")\n",
        "\n",
        "display_investigation_message()"
      ],
      "metadata": {
        "colab": {
          "base_uri": "https://localhost:8080/"
        },
        "id": "abHZ-XVoqhjK",
        "outputId": "89a6c2a5-df37-4229-da98-419ca1afb849"
      },
      "execution_count": 8,
      "outputs": [
        {
          "output_type": "stream",
          "name": "stdout",
          "text": [
            "investigate activity\n"
          ]
        }
      ]
    },
    {
      "cell_type": "code",
      "source": [
        "def display_investigation_message():\n",
        "    print(\"investigate activity\")\n",
        "application_status = \"potential concern\"\n",
        "email_status = \"okay\"\n",
        "if application_status == \"potential concern\":\n",
        "    print(\"application_log:\")\n",
        "    display_investigation_message()\n",
        "if email_status == \"potential concern\":\n",
        "    print(\"email log:\")\n",
        "    display_investigation_message()\n",
        "\n",
        "def func1():\n",
        "  func1()"
      ],
      "metadata": {
        "colab": {
          "base_uri": "https://localhost:8080/"
        },
        "id": "jc8Jcfo-riy-",
        "outputId": "80c13814-1843-4c3d-dc2c-7d6ab85f53ed"
      },
      "execution_count": 10,
      "outputs": [
        {
          "output_type": "stream",
          "name": "stdout",
          "text": [
            "application_log:\n",
            "investigate activity\n"
          ]
        }
      ]
    },
    {
      "cell_type": "code",
      "source": [
        "# Define a function named `list_to_string()`\n",
        "\n",
        "def list_to_string():\n",
        "\n",
        "  # Store the list of approved usernames in a variable named `username_list`\n",
        "\n",
        "  username_list = [\"elarson\", \"bmoreno\", \"tshah\", \"sgilmore\", \"eraab\", \"gesparza\", \"alevitsk\", \"wjaffrey\"]\n",
        "\n",
        "  # Write a for loop that iterates through the elements of `username_list` and displays each element\n",
        "\n",
        "  for i in username_list:\n",
        "    print(i)\n",
        "\n",
        "# Call the `list_to_string()` function\n",
        "\n",
        "list_to_string()"
      ],
      "metadata": {
        "colab": {
          "base_uri": "https://localhost:8080/"
        },
        "id": "UFwy5d8crnVv",
        "outputId": "14a60239-7667-4101-8b9b-083fd51e9ff0"
      },
      "execution_count": 11,
      "outputs": [
        {
          "output_type": "stream",
          "name": "stdout",
          "text": [
            "elarson\n",
            "bmoreno\n",
            "tshah\n",
            "sgilmore\n",
            "eraab\n",
            "gesparza\n",
            "alevitsk\n",
            "wjaffrey\n"
          ]
        }
      ]
    },
    {
      "cell_type": "code",
      "source": [
        "# Define a function named `list_to_string()`\n",
        "\n",
        "def list_to_string():\n",
        "\n",
        "  # Store the list of approved usernames in a variable named `username_list`\n",
        "\n",
        "  username_list = [\"elarson\", \"bmoreno\", \"tshah\", \"sgilmore\", \"eraab\", \"gesparza\", \"alevitsk\", \"wjaffrey\"]\n",
        "\n",
        "  # Assign `sum_variable` to an empty string\n",
        "\n",
        "  sum_variable = \"\"\n",
        "\n",
        "  # Write a for loop that iterates through the elements of `username_list` and displays each element\n",
        "\n",
        "  for i in username_list:\n",
        "    sum_variable = sum_variable + i\n",
        "\n",
        "  # Display the value of `sum_variable`\n",
        "\n",
        "  print(sum_variable)\n",
        "\n",
        "# Call the `list_to_string()` function\n",
        "\n",
        "list_to_string()"
      ],
      "metadata": {
        "colab": {
          "base_uri": "https://localhost:8080/"
        },
        "id": "mlRlALRMzWcp",
        "outputId": "378f3475-d1ba-44b8-a68f-ccda9f13206e"
      },
      "execution_count": 12,
      "outputs": [
        {
          "output_type": "stream",
          "name": "stdout",
          "text": [
            "elarsonbmorenotshahsgilmoreeraabgesparzaalevitskwjaffrey\n"
          ]
        }
      ]
    },
    {
      "cell_type": "code",
      "source": [
        "# Define a function named `list_to_string()`\n",
        "\n",
        "def list_to_string():\n",
        "\n",
        "  # Store the list of approved usernames in a variable named `username_list`\n",
        "\n",
        "  username_list = [\"elarson\", \"bmoreno\", \"tshah\", \"sgilmore\", \"eraab\", \"gesparza\", \"alevitsk\", \"wjaffrey\"]\n",
        "\n",
        "  # Assign `sum_variable` to an empty string\n",
        "\n",
        "  sum_variable = \"\"\n",
        "\n",
        "  # Write a for loop that iterates through the elements of `username_list` and displays each element\n",
        "\n",
        "  for i in username_list:\n",
        "    sum_variable = sum_variable + i + \", \"\n",
        "\n",
        "  # Display the value of `sum_variable`\n",
        "\n",
        "  print(sum_variable)\n",
        "\n",
        "# Call the `list_to_string()` function\n",
        "\n",
        "list_to_string()"
      ],
      "metadata": {
        "colab": {
          "base_uri": "https://localhost:8080/"
        },
        "id": "VqzXyGQ3zblI",
        "outputId": "4bb9130b-0bd7-4046-b3b8-225e2e8f6089"
      },
      "execution_count": 14,
      "outputs": [
        {
          "output_type": "stream",
          "name": "stdout",
          "text": [
            "elarson, bmoreno, tshah, sgilmore, eraab, gesparza, alevitsk, wjaffrey, \n"
          ]
        }
      ]
    },
    {
      "cell_type": "code",
      "source": [
        "# definir greet_employees por nome\n",
        "def greet_employees(first_name, last_name):\n",
        "  print(\"Welcome to the jungle! You're logged in!\", first_name, lastname)\n",
        "\n",
        "greet_employees(\"Kiara\", \"Patel\")\n",
        "\n"
      ],
      "metadata": {
        "colab": {
          "base_uri": "https://localhost:8080/"
        },
        "id": "VD0wYepTziCJ",
        "outputId": "18bbe8e0-9fd3-4144-94b8-cea3cc3221b8"
      },
      "execution_count": 17,
      "outputs": [
        {
          "output_type": "stream",
          "name": "stdout",
          "text": [
            "Welcome to the jungle! You're logged in! Kiara Patel\n"
          ]
        }
      ]
    },
    {
      "cell_type": "code",
      "source": [],
      "metadata": {
        "id": "Lom1V9-1ube8"
      },
      "execution_count": null,
      "outputs": []
    },
    {
      "cell_type": "code",
      "source": [
        "# explorando a entrada e saída da função print()\n",
        "print (\"This is a string, but\", 78, \"is a number\")\n",
        "\n",
        "#explorando a entrada e saída da função type\n",
        "print(type(\"Security\"))\n",
        "print(type(73.2))\n"
      ],
      "metadata": {
        "colab": {
          "base_uri": "https://localhost:8080/"
        },
        "id": "Y4K4SM0hdgfn",
        "outputId": "771d13e9-dd22-4c61-aa06-5db307d1ad18"
      },
      "execution_count": 21,
      "outputs": [
        {
          "output_type": "stream",
          "name": "stdout",
          "text": [
            "This is a string, but 78 is a number\n",
            "<class 'str'>\n",
            "<class 'float'>\n"
          ]
        }
      ]
    }
  ]
}