{
  "nbformat": 4,
  "nbformat_minor": 0,
  "metadata": {
    "colab": {
      "provenance": [],
      "authorship_tag": "ABX9TyOts3DsAkewT2zXqEsKOivw",
      "include_colab_link": true
    },
    "kernelspec": {
      "name": "python3",
      "display_name": "Python 3"
    },
    "language_info": {
      "name": "python"
    }
  },
  "cells": [
    {
      "cell_type": "markdown",
      "metadata": {
        "id": "view-in-github",
        "colab_type": "text"
      },
      "source": [
        "<a href=\"https://colab.research.google.com/github/Tanhost/Tanhost/blob/main/lesson7.ipynb\" target=\"_parent\"><img src=\"https://colab.research.google.com/assets/colab-badge.svg\" alt=\"Open In Colab\"/></a>"
      ]
    },
    {
      "cell_type": "code",
      "execution_count": 7,
      "metadata": {
        "colab": {
          "base_uri": "https://localhost:8080/"
        },
        "id": "m081ObKUo278",
        "outputId": "b9c05eda-2809-4bbc-d77a-95c13252f625"
      },
      "outputs": [
        {
          "output_type": "stream",
          "name": "stdout",
          "text": [
            "Welcome to the jungle. You're logged in!\n"
          ]
        }
      ],
      "source": [
        "#definir uma função\n",
        "def greet_employee():\n",
        "  print(\"Welcome to the jungle. You're logged in!\")\n",
        "\n",
        "#chamar uma função\n",
        "greet_employee()"
      ]
    },
    {
      "cell_type": "code",
      "source": [
        "def display_investigation_message():\n",
        "  print(\"investigate activity\")\n",
        "\n",
        "display_investigation_message()"
      ],
      "metadata": {
        "colab": {
          "base_uri": "https://localhost:8080/"
        },
        "id": "abHZ-XVoqhjK",
        "outputId": "89a6c2a5-df37-4229-da98-419ca1afb849"
      },
      "execution_count": 8,
      "outputs": [
        {
          "output_type": "stream",
          "name": "stdout",
          "text": [
            "investigate activity\n"
          ]
        }
      ]
    },
    {
      "cell_type": "code",
      "source": [
        "def display_investigation_message():\n",
        "    print(\"investigate activity\")\n",
        "application_status = \"potential concern\"\n",
        "email_status = \"okay\"\n",
        "if application_status == \"potential concern\":\n",
        "    print(\"application_log:\")\n",
        "    display_investigation_message()\n",
        "if email_status == \"potential concern\":\n",
        "    print(\"email log:\")\n",
        "    display_investigation_message()\n",
        "\n",
        "def func1():\n",
        "  func1()"
      ],
      "metadata": {
        "colab": {
          "base_uri": "https://localhost:8080/"
        },
        "id": "jc8Jcfo-riy-",
        "outputId": "80c13814-1843-4c3d-dc2c-7d6ab85f53ed"
      },
      "execution_count": 10,
      "outputs": [
        {
          "output_type": "stream",
          "name": "stdout",
          "text": [
            "application_log:\n",
            "investigate activity\n"
          ]
        }
      ]
    },
    {
      "cell_type": "code",
      "source": [
        "# Define a function named `list_to_string()`\n",
        "\n",
        "def list_to_string():\n",
        "\n",
        "  # Store the list of approved usernames in a variable named `username_list`\n",
        "\n",
        "  username_list = [\"elarson\", \"bmoreno\", \"tshah\", \"sgilmore\", \"eraab\", \"gesparza\", \"alevitsk\", \"wjaffrey\"]\n",
        "\n",
        "  # Write a for loop that iterates through the elements of `username_list` and displays each element\n",
        "\n",
        "  for i in username_list:\n",
        "    print(i)\n",
        "\n",
        "# Call the `list_to_string()` function\n",
        "\n",
        "list_to_string()"
      ],
      "metadata": {
        "colab": {
          "base_uri": "https://localhost:8080/"
        },
        "id": "UFwy5d8crnVv",
        "outputId": "14a60239-7667-4101-8b9b-083fd51e9ff0"
      },
      "execution_count": 11,
      "outputs": [
        {
          "output_type": "stream",
          "name": "stdout",
          "text": [
            "elarson\n",
            "bmoreno\n",
            "tshah\n",
            "sgilmore\n",
            "eraab\n",
            "gesparza\n",
            "alevitsk\n",
            "wjaffrey\n"
          ]
        }
      ]
    },
    {
      "cell_type": "code",
      "source": [
        "# Define a function named `list_to_string()`\n",
        "\n",
        "def list_to_string():\n",
        "\n",
        "  # Store the list of approved usernames in a variable named `username_list`\n",
        "\n",
        "  username_list = [\"elarson\", \"bmoreno\", \"tshah\", \"sgilmore\", \"eraab\", \"gesparza\", \"alevitsk\", \"wjaffrey\"]\n",
        "\n",
        "  # Assign `sum_variable` to an empty string\n",
        "\n",
        "  sum_variable = \"\"\n",
        "\n",
        "  # Write a for loop that iterates through the elements of `username_list` and displays each element\n",
        "\n",
        "  for i in username_list:\n",
        "    sum_variable = sum_variable + i\n",
        "\n",
        "  # Display the value of `sum_variable`\n",
        "\n",
        "  print(sum_variable)\n",
        "\n",
        "# Call the `list_to_string()` function\n",
        "\n",
        "list_to_string()"
      ],
      "metadata": {
        "colab": {
          "base_uri": "https://localhost:8080/"
        },
        "id": "mlRlALRMzWcp",
        "outputId": "378f3475-d1ba-44b8-a68f-ccda9f13206e"
      },
      "execution_count": 12,
      "outputs": [
        {
          "output_type": "stream",
          "name": "stdout",
          "text": [
            "elarsonbmorenotshahsgilmoreeraabgesparzaalevitskwjaffrey\n"
          ]
        }
      ]
    },
    {
      "cell_type": "code",
      "source": [
        "# Define a function named `list_to_string()`\n",
        "\n",
        "def list_to_string():\n",
        "\n",
        "  # Store the list of approved usernames in a variable named `username_list`\n",
        "\n",
        "  username_list = [\"elarson\", \"bmoreno\", \"tshah\", \"sgilmore\", \"eraab\", \"gesparza\", \"alevitsk\", \"wjaffrey\"]\n",
        "\n",
        "  # Assign `sum_variable` to an empty string\n",
        "\n",
        "  sum_variable = \"\"\n",
        "\n",
        "  # Write a for loop that iterates through the elements of `username_list` and displays each element\n",
        "\n",
        "  for i in username_list:\n",
        "    sum_variable = sum_variable + i + \", \"\n",
        "\n",
        "  # Display the value of `sum_variable`\n",
        "\n",
        "  print(sum_variable)\n",
        "\n",
        "# Call the `list_to_string()` function\n",
        "\n",
        "list_to_string()"
      ],
      "metadata": {
        "colab": {
          "base_uri": "https://localhost:8080/"
        },
        "id": "VqzXyGQ3zblI",
        "outputId": "ffc28201-4e04-498c-8288-ed177408d8e7"
      },
      "execution_count": 36,
      "outputs": [
        {
          "output_type": "stream",
          "name": "stdout",
          "text": [
            "elarson, bmoreno, tshah, sgilmore, eraab, gesparza, alevitsk, wjaffrey, \n"
          ]
        }
      ]
    },
    {
      "cell_type": "code",
      "source": [
        "# definir greet_employees por nome\n",
        "def greet_employees(first_name, last_name):\n",
        "  print(\"Welcome to the jungle! You're logged in!\", first_name, last_name)\n",
        "\n",
        "greet_employees(\"Kiara\", \"Patel\")\n",
        "\n"
      ],
      "metadata": {
        "colab": {
          "base_uri": "https://localhost:8080/"
        },
        "id": "VD0wYepTziCJ",
        "outputId": "71f4b31b-7fc1-4c0b-96e6-7871e3bc316b"
      },
      "execution_count": 35,
      "outputs": [
        {
          "output_type": "stream",
          "name": "stdout",
          "text": [
            "Welcome to the jungle! You're logged in! Kiara Patel\n"
          ]
        }
      ]
    },
    {
      "cell_type": "code",
      "source": [],
      "metadata": {
        "id": "Lom1V9-1ube8"
      },
      "execution_count": null,
      "outputs": []
    },
    {
      "cell_type": "code",
      "source": [
        "# explorando a entrada e saída da função print()\n",
        "print (\"This is a string, but\", 78, \"is a number\")\n",
        "\n",
        "#explorando a entrada e saída da função type\n",
        "print(type(\"Security\"))\n",
        "print(type(73.2))\n",
        "print(type(4))\n"
      ],
      "metadata": {
        "colab": {
          "base_uri": "https://localhost:8080/"
        },
        "id": "Y4K4SM0hdgfn",
        "outputId": "6390af99-b756-463c-a36e-0d7bb7294ebf"
      },
      "execution_count": 23,
      "outputs": [
        {
          "output_type": "stream",
          "name": "stdout",
          "text": [
            "This is a string, but 78 is a number\n",
            "<class 'str'>\n",
            "<class 'float'>\n",
            "<class 'int'>\n"
          ]
        }
      ]
    },
    {
      "cell_type": "code",
      "source": [
        "#explorar a função max()\n",
        "a = 758925454\n",
        "b = 754545454545\n",
        "c = 95454545454\n",
        "\n",
        "print(max(a,b,c))\n"
      ],
      "metadata": {
        "colab": {
          "base_uri": "https://localhost:8080/"
        },
        "id": "fZXiPLbMvTsd",
        "outputId": "3fefc8e2-1021-4157-af4a-7c70ed95d6ea"
      },
      "execution_count": 31,
      "outputs": [
        {
          "output_type": "stream",
          "name": "stdout",
          "text": [
            "754545454545\n"
          ]
        }
      ]
    },
    {
      "cell_type": "code",
      "source": [
        "failed_login_list = [119, 101, 99, 91, 92, 105, 108, 85, 88, 90, 264, 223]\n",
        "\n",
        "# Sort `failed_login_list` in ascending numerical order and display the result\n",
        "\n",
        "print(sorted(failed_login_list))\n"
      ],
      "metadata": {
        "colab": {
          "base_uri": "https://localhost:8080/"
        },
        "id": "ksXhQTvk0EV9",
        "outputId": "50262d12-97b8-44c7-dcb5-529edd4c9ddc"
      },
      "execution_count": 33,
      "outputs": [
        {
          "output_type": "stream",
          "name": "stdout",
          "text": [
            "[85, 88, 90, 91, 92, 99, 101, 105, 108, 119, 223, 264]\n"
          ]
        }
      ]
    },
    {
      "cell_type": "code",
      "source": [
        "# Define a function named `analyze_logins()` that takes in three parameters, `username`, `current_day_logins`, and `average_day_logins`\n",
        "\n",
        "def analyze_logins(username, current_day_logins, average_day_logins):\n",
        "\n",
        "    # Display a message about how many login attempts the user has made that day\n",
        "\n",
        "    print(\"Current day login total for\", username, \"is\", current_day_logins)\n",
        "\n",
        "    # Display a message about average number of login attempts the user has made that day\n",
        "\n",
        "    print(\"Average logins per day for\", username, \"is\", average_day_logins)\n",
        "\n",
        "    # Calculate the ratio of the logins made on the current day to the logins made on an average day, storing in a variable named `login_ratio`\n",
        "\n",
        "    login_ratio = current_day_logins / average_day_logins\n",
        "\n",
        "    # Return the ratio\n",
        "\n",
        "    return login_ratio\n",
        "\n",
        "# Call `analyze_logins() and store the output in a variable named `login_analysis`\n",
        "\n",
        "login_analysis = analyze_logins(\"ejones\", 9, 3)\n",
        "\n",
        "# Conditional statement that displays an alert about the login activity if it's more than normal\n",
        "\n",
        "if login_analysis >= 3:\n",
        "    print(\"Alert! This account has more login activity than normal.\")"
      ],
      "metadata": {
        "colab": {
          "base_uri": "https://localhost:8080/"
        },
        "id": "3fRHdXVj0Jfe",
        "outputId": "c6bd1d2d-a193-42e1-fc78-1153183c2ab0"
      },
      "execution_count": 37,
      "outputs": [
        {
          "output_type": "stream",
          "name": "stdout",
          "text": [
            "Current day login total for ejones is 9\n",
            "Average logins per day for ejones is 3\n",
            "Alert! This account has more login activity than normal.\n"
          ]
        }
      ]
    },
    {
      "cell_type": "code",
      "source": [
        "# Define a function named `analyze_logins()` that takes in three parameters, `username`, `current_day_logins`, and `average_day_logins`\n",
        "\n",
        "def analyze_logins(username, current_day_logins, average_day_logins):\n",
        "\n",
        "    # Display a message about how many login attempts the user has made that day\n",
        "\n",
        "    print(\"Current day login total for\", username, \"is\", current_day_logins)\n",
        "\n",
        "    # Display a message about average number of login attempts the user has made that day\n",
        "\n",
        "    print(\"Average logins per day for\", username, \"is\", average_day_logins)\n",
        "\n",
        "    # Calculate the ratio of the logins made on the current day to the logins made on an average day, storing in a variable named `login_ratio`\n",
        "\n",
        "    login_ratio = current_day_logins / average_day_logins\n",
        "\n",
        "    # Return the ratio\n",
        "\n",
        "    return login_ratio\n",
        "\n",
        "# Call `analyze_logins() and store the output in a variable named `login_analysis`\n",
        "\n",
        "login_analysis = analyze_logins(\"ejones\", 9, 3)\n",
        "\n",
        "# Display a message about the `login_analysis`\n",
        "\n",
        "print(\"ejones\", \"logged in\", login_analysis, \"times as much as they do on an average day.\")\n"
      ],
      "metadata": {
        "colab": {
          "base_uri": "https://localhost:8080/"
        },
        "id": "12XG4-rF_5cB",
        "outputId": "ab72e833-c7f8-48e9-dcd6-d724353d82cc"
      },
      "execution_count": 38,
      "outputs": [
        {
          "output_type": "stream",
          "name": "stdout",
          "text": [
            "Current day login total for ejones is 9\n",
            "Average logins per day for ejones is 3\n",
            "ejones logged in 3.0 times as much as they do on an average day.\n"
          ]
        }
      ]
    },
    {
      "cell_type": "code",
      "source": [
        "# Define a function named `analyze_logins()` that takes in three parameters, `username`, `current_day_logins`, and `average_day_logins`\n",
        "\n",
        "def analyze_logins(username, current_day_logins, average_day_logins):\n",
        "\n",
        "    # Display a message about how many login attempts the user has made that day\n",
        "\n",
        "    print(\"Current day login total for\", username, \"is\", current_day_logins)\n",
        "\n",
        "    # Display a message about average number of login attempts the user has made that day\n",
        "\n",
        "    print(\"Average logins per day for\", username, \"is\", average_day_logins)\n",
        "\n",
        "    # Calculate the ratio of the logins made on the current day to the logins made on an average day, storing in a variable named `login_ratio`\n",
        "\n",
        "    login_ratio = current_day_logins / average_day_logins\n",
        "\n",
        "    # Display a message about the ratio\n",
        "\n",
        "    print(username, \"logged in\", login_ratio, \"times as much as they do on an average day.\")\n",
        "\n",
        "# Call `analyze_logins()`\n",
        "\n",
        "analyze_logins(\"ejones\", 9, 3)\n"
      ],
      "metadata": {
        "colab": {
          "base_uri": "https://localhost:8080/"
        },
        "id": "F_rpYjIx__Wp",
        "outputId": "8f8f7636-c3b1-434e-ba51-4a9daeca50a9"
      },
      "execution_count": 39,
      "outputs": [
        {
          "output_type": "stream",
          "name": "stdout",
          "text": [
            "Current day login total for ejones is 9\n",
            "Average logins per day for ejones is 3\n",
            "ejones logged in 3.0 times as much as they do on an average day.\n"
          ]
        }
      ]
    },
    {
      "cell_type": "code",
      "source": [
        "# Define a function named `analyze_logins()` that takes in three parameters, `username`, `current_day_logins`, and `average_day_logins`\n",
        "\n",
        "def analyze_logins(username, current_day_logins, average_day_logins):\n",
        "\n",
        "    # Display a message about how many login attempts the user has made that day\n",
        "\n",
        "    print(\"Current day login total for\", username, \"is\", current_day_logins)\n",
        "\n",
        "    # Display a message about average number of login attempts the user has made that day\n",
        "\n",
        "    print(\"Average logins per day for\", username, \"is\", average_day_logins)\n",
        "\n",
        "# Call `analyze_logins()`\n",
        "\n",
        "analyze_logins(\"ejones\", 9, 3)\n"
      ],
      "metadata": {
        "colab": {
          "base_uri": "https://localhost:8080/"
        },
        "id": "F1a1CQPoAFr-",
        "outputId": "c4efdb93-ab85-4f82-ec77-2e4ab1165440"
      },
      "execution_count": 40,
      "outputs": [
        {
          "output_type": "stream",
          "name": "stdout",
          "text": [
            "Current day login total for ejones is 9\n",
            "Average logins per day for ejones is 3\n"
          ]
        }
      ]
    },
    {
      "cell_type": "code",
      "source": [
        "# Define a function named `analyze_logins()` that takes in two parameters, `username` and `current_day_logins`\n",
        "\n",
        "def analyze_logins(username, current_day_logins):\n",
        "\n",
        "    # Display a message about how many login attempts the user has made that day\n",
        "\n",
        "    print(\"Current day login total for\", username, \"is\", current_day_logins)\n",
        "\n",
        "# Call `analyze_logins()`\n",
        "\n",
        "analyze_logins(\"ejones\", 9)\n"
      ],
      "metadata": {
        "colab": {
          "base_uri": "https://localhost:8080/"
        },
        "id": "fdYbFg5HAG_Z",
        "outputId": "17748f42-78eb-4bcc-8ea6-27cd34623bf3"
      },
      "execution_count": 41,
      "outputs": [
        {
          "output_type": "stream",
          "name": "stdout",
          "text": [
            "Current day login total for ejones is 9\n"
          ]
        }
      ]
    },
    {
      "cell_type": "code",
      "source": [
        "# Define a function named `analyze_logins()` that takes in two parameters, `username` and `current_day_logins`\n",
        "\n",
        "def analyze_logins(username, current_day_logins):\n",
        "\n",
        "    # Display a message about how many login attempts the user has made that day\n",
        "\n",
        "    print(\"Current day login total for\", username, \"is\", current_day_logins)\n",
        "\n",
        "\n",
        ""
      ],
      "metadata": {
        "id": "z3fKy1uEB3O-"
      },
      "execution_count": 47,
      "outputs": []
    },
    {
      "cell_type": "code",
      "source": [
        "import statistics\n",
        "monthly_failed_attempts = [20, 17, 178, 33, 15, 21, 19, 29, 32, 15, 25, 19]\n",
        "mean_failed_attempts = statistics.mean(monthly_failed_attempts)\n",
        "print(\"mean:\", mean_failed_attempts)"
      ],
      "metadata": {
        "colab": {
          "base_uri": "https://localhost:8080/"
        },
        "id": "Wl0KYSxDF8B_",
        "outputId": "38429e05-9cd1-4625-c8ee-71fa795195a7"
      },
      "execution_count": 55,
      "outputs": [
        {
          "output_type": "stream",
          "name": "stdout",
          "text": [
            "mean: 35.25\n"
          ]
        }
      ]
    },
    {
      "cell_type": "code",
      "source": [
        "import statistics\n",
        "monthly_failed_attempts = [20, 17, 178, 33, 15, 21, 19, 29, 32, 15, 25, 19]\n",
        "median_failed_attempts = statistics.median(monthly_failed_attempts)\n",
        "print(\"median:\", median_failed_attempts)"
      ],
      "metadata": {
        "colab": {
          "base_uri": "https://localhost:8080/"
        },
        "id": "h4j2g_iAJaMM",
        "outputId": "8b828387-39be-4901-a39b-4a51caa767f4"
      },
      "execution_count": 56,
      "outputs": [
        {
          "output_type": "stream",
          "name": "stdout",
          "text": [
            "median: 20.5\n"
          ]
        }
      ]
    },
    {
      "cell_type": "code",
      "source": [
        "from statistics import mean, median\n",
        "monthly_failed_attempts = [20, 17, 178, 33, 15, 21, 19, 29, 32, 15, 25, 19]\n",
        "mean_failed_attempts = mean(monthly_failed_attempts)\n",
        "print(\"mean:\", mean_failed_attempts)\n",
        "median_failed_attempts = median(monthly_failed_attempts)\n",
        "print(\"median:\", median_failed_attempts)"
      ],
      "metadata": {
        "colab": {
          "base_uri": "https://localhost:8080/"
        },
        "id": "39l-WerzJlMc",
        "outputId": "05f4cf25-ce5d-4847-c5cf-b599da5766f9"
      },
      "execution_count": 57,
      "outputs": [
        {
          "output_type": "stream",
          "name": "stdout",
          "text": [
            "mean: 35.25\n",
            "median: 20.5\n"
          ]
        }
      ]
    },
    {
      "cell_type": "code",
      "source": [
        "import sqlite3\n",
        "connection = sqlite3.connect('database.db')\n",
        "cursor = connection.cursor()"
      ],
      "metadata": {
        "id": "bjoT_dxEJtEs"
      },
      "execution_count": 61,
      "outputs": []
    }
  ]
}