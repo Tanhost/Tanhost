{
  "nbformat": 4,
  "nbformat_minor": 0,
  "metadata": {
    "colab": {
      "provenance": [],
      "authorship_tag": "ABX9TyNEzljYLp0YiwWdMuB2pZSG",
      "include_colab_link": true
    },
    "kernelspec": {
      "name": "python3",
      "display_name": "Python 3"
    },
    "language_info": {
      "name": "python"
    }
  },
  "cells": [
    {
      "cell_type": "markdown",
      "metadata": {
        "id": "view-in-github",
        "colab_type": "text"
      },
      "source": [
        "<a href=\"https://colab.research.google.com/github/Tanhost/Tanhost/blob/main/lesson8.ipynb\" target=\"_parent\"><img src=\"https://colab.research.google.com/assets/colab-badge.svg\" alt=\"Open In Colab\"/></a>"
      ]
    },
    {
      "cell_type": "markdown",
      "source": [
        "# indice no Python"
      ],
      "metadata": {
        "id": "JXDfOm4WAGNq"
      }
    },
    {
      "cell_type": "code",
      "execution_count": 11,
      "metadata": {
        "colab": {
          "base_uri": "https://localhost:8080/",
          "height": 55
        },
        "id": "lr2dJCP5_zoy",
        "outputId": "1c49ade8-f4bf-44b2-ddff-bc592f03f6a9"
      },
      "outputs": [
        {
          "output_type": "execute_result",
          "data": {
            "text/plain": [
              "'ell'"
            ],
            "application/vnd.google.colaboratory.intrinsic+json": {
              "type": "string"
            }
          },
          "metadata": {},
          "execution_count": 11
        }
      ],
      "source": [
        "\"Hello\"[1:4]"
      ]
    },
    {
      "cell_type": "code",
      "source": [
        "\"ola estou treinando com python\"[8]"
      ],
      "metadata": {
        "colab": {
          "base_uri": "https://localhost:8080/",
          "height": 55
        },
        "id": "Il18pPgNAN-B",
        "outputId": "69b889ae-b05d-45e1-ab4d-cb678ab5c098"
      },
      "execution_count": 10,
      "outputs": [
        {
          "output_type": "execute_result",
          "data": {
            "text/plain": [
              "'u'"
            ],
            "application/vnd.google.colaboratory.intrinsic+json": {
              "type": "string"
            }
          },
          "metadata": {},
          "execution_count": 10
        }
      ]
    },
    {
      "cell_type": "code",
      "source": [
        "#extratir indices de uma string\n",
        "print(\"Hello\"[1:4])"
      ],
      "metadata": {
        "colab": {
          "base_uri": "https://localhost:8080/"
        },
        "id": "cbK5t_5zBPuY",
        "outputId": "61861140-9839-4efc-a0f2-2cb0aad9214f"
      },
      "execution_count": 12,
      "outputs": [
        {
          "output_type": "stream",
          "name": "stdout",
          "text": [
            "ell\n"
          ]
        }
      ]
    },
    {
      "cell_type": "code",
      "source": [
        "print(\"Hello\". index(\"e\"))"
      ],
      "metadata": {
        "colab": {
          "base_uri": "https://localhost:8080/"
        },
        "id": "TdcH4fFMBiyk",
        "outputId": "cc8d4903-e6d2-40b0-e474-b9dc9c7e03e6"
      },
      "execution_count": 15,
      "outputs": [
        {
          "output_type": "stream",
          "name": "stdout",
          "text": [
            "1\n"
          ]
        }
      ]
    },
    {
      "cell_type": "code",
      "source": [
        "print(\"jfsodfjaf sdpojdsgpodsho oigdsgsdiogeug whoeritguieroghfd kjgkdnjvnf jklsjgsl\". index(\"w\"))"
      ],
      "metadata": {
        "colab": {
          "base_uri": "https://localhost:8080/"
        },
        "id": "WCmIsbYzChPr",
        "outputId": "51af8d4e-bab5-4e4f-d777-d554e9d28fec"
      },
      "execution_count": 19,
      "outputs": [
        {
          "output_type": "stream",
          "name": "stdout",
          "text": [
            "40\n"
          ]
        }
      ]
    },
    {
      "cell_type": "code",
      "source": [
        "print(\"ofksdfpojksodfijsodif fdidofhosd fdsiuwoefjosdjf fsdoifjsdojfo\". index(\"f\"))"
      ],
      "metadata": {
        "colab": {
          "base_uri": "https://localhost:8080/"
        },
        "id": "zQNDuR8LDZMq",
        "outputId": "a0e8234b-3be2-4d05-82a4-8443c8fd2e58"
      },
      "execution_count": 20,
      "outputs": [
        {
          "output_type": "stream",
          "name": "stdout",
          "text": [
            "1\n"
          ]
        }
      ]
    },
    {
      "cell_type": "code",
      "source": [
        "# Assign `employee_id` to a four digit number as an initial value\n",
        "\n",
        "employee_id = 4186\n",
        "\n",
        "# Display the data type of `employee_id`\n",
        "\n",
        "print(type(employee_id))\n",
        "\n",
        "# Reassign `employee_id` to the same value but in the form of a string\n",
        "\n",
        "employee_id = str(employee_id)\n",
        "\n",
        "# Display the data type of `employee_id` now\n",
        "\n",
        "print(type(employee_id))"
      ],
      "metadata": {
        "colab": {
          "base_uri": "https://localhost:8080/"
        },
        "id": "2Hss1hwRQ8ru",
        "outputId": "92baab5c-33d5-45b3-d75d-1e6a84bb6dbe"
      },
      "execution_count": 25,
      "outputs": [
        {
          "output_type": "stream",
          "name": "stdout",
          "text": [
            "<class 'int'>\n",
            "<class 'str'>\n"
          ]
        }
      ]
    },
    {
      "cell_type": "code",
      "source": [
        "# Assign `employee_id` to a four digit number as an initial value\n",
        "\n",
        "employee_id = 4186\n",
        "\n",
        "# Reassign `employee_id` to the same value but in the form of a string\n",
        "\n",
        "employee_id = str(employee_id)\n",
        "\n",
        "# Conditional statement that displays a message if the employee ID length is less than 5 digits\n",
        "\n",
        "if len(employee_id) < 5:\n",
        "    print(\"This employee ID has less than five digits. It does not meet length requirements.\")\n",
        ""
      ],
      "metadata": {
        "colab": {
          "base_uri": "https://localhost:8080/"
        },
        "id": "cbsO6BnkRVbS",
        "outputId": "b8ba140d-ec18-4f43-c222-bbc3b508b197"
      },
      "execution_count": 26,
      "outputs": [
        {
          "output_type": "stream",
          "name": "stdout",
          "text": [
            "This employee ID has less than five digits. It does not meet length requirements.\n"
          ]
        }
      ]
    },
    {
      "cell_type": "code",
      "source": [
        "# Assign `employee_id` to a four digit number as an initial value\n",
        "\n",
        "employee_id = 4186\n",
        "\n",
        "# Reassign `employee_id` to the same value but in the form of a string\n",
        "\n",
        "employee_id = str(employee_id)\n",
        "\n",
        "# Display the `employee_id` as it currently stands\n",
        "\n",
        "print(employee_id)\n",
        "\n",
        "# Conditional statement that updates the `employee_id` if its length is less than 5 digits\n",
        "\n",
        "if len(employee_id) < 5:\n",
        "    employee_id = \"E\" + employee_id\n",
        "\n",
        "# Display the `employee_id` after the update\n",
        "\n",
        "print(employee_id)"
      ],
      "metadata": {
        "colab": {
          "base_uri": "https://localhost:8080/"
        },
        "id": "zk1aDMuvRabX",
        "outputId": "2620c720-a543-4541-8e60-b3ffd549cc8a"
      },
      "execution_count": 27,
      "outputs": [
        {
          "output_type": "stream",
          "name": "stdout",
          "text": [
            "4186\n",
            "E4186\n"
          ]
        }
      ]
    },
    {
      "cell_type": "code",
      "source": [
        "# Assign `device_id` to a string that contains alphanumeric characters\n",
        "\n",
        "device_id = \"r262c36\"\n",
        "\n",
        "# Extract the fourth character in `device_id` and display it\n",
        "\n",
        "print(device_id[3])"
      ],
      "metadata": {
        "colab": {
          "base_uri": "https://localhost:8080/"
        },
        "id": "ni15owrORgrz",
        "outputId": "f8e13965-894c-4dc0-bd08-19712ea62ed3"
      },
      "execution_count": 28,
      "outputs": [
        {
          "output_type": "stream",
          "name": "stdout",
          "text": [
            "2\n"
          ]
        }
      ]
    },
    {
      "cell_type": "code",
      "source": [
        "# Assign `url` to a specific URL\n",
        "\n",
        "url = \"https://exampleURL1.com\"\n",
        "\n",
        "# Extract the protocol of `url` along with the syntax following it, display the result\n",
        "\n",
        "print(url[0:8])"
      ],
      "metadata": {
        "colab": {
          "base_uri": "https://localhost:8080/"
        },
        "id": "_ZVZyyN5Rhwj",
        "outputId": "a72df04a-cf72-40af-9519-c6ea336ada43"
      },
      "execution_count": 29,
      "outputs": [
        {
          "output_type": "stream",
          "name": "stdout",
          "text": [
            "https://\n"
          ]
        }
      ]
    },
    {
      "cell_type": "code",
      "source": [
        "# Assign `url` to a specific URL\n",
        "\n",
        "url = \"https://exampleURL1.com\"\n",
        "\n",
        "# Assign `ind` to the output of applying `.index()` to `url` in order to extract the starting index of \".com\" in `url`\n",
        "\n",
        "ind = url.index(\".com\")\n",
        "\n",
        "# Extract the domain extension in `url` and display it\n",
        "\n",
        "print(url[ind:ind+4])"
      ],
      "metadata": {
        "colab": {
          "base_uri": "https://localhost:8080/"
        },
        "id": "Ok9ppgxQRo5c",
        "outputId": "f91f2701-9a0e-4859-fd74-d6c8a9b29713"
      },
      "execution_count": 30,
      "outputs": [
        {
          "output_type": "stream",
          "name": "stdout",
          "text": [
            ".com\n"
          ]
        }
      ]
    },
    {
      "cell_type": "code",
      "source": [
        "# Assign `url` to a specific URL\n",
        "\n",
        "url = \"https://exampleURL1.com\"\n",
        "\n",
        "# Assign `ind` to the output of applying `.index()` to `url` in order to extract the starting index of \".com\" in `url`\n",
        "\n",
        "ind = url.index(\".com\")\n",
        "\n",
        "# Extract the website name in `url` and display it\n",
        "\n",
        "print(url[8:ind])\n"
      ],
      "metadata": {
        "colab": {
          "base_uri": "https://localhost:8080/"
        },
        "id": "BiF8EORiR9Dk",
        "outputId": "e931e9b3-e232-46d1-e068-02abf9f0cf70"
      },
      "execution_count": 31,
      "outputs": [
        {
          "output_type": "stream",
          "name": "stdout",
          "text": [
            "exampleURL1\n"
          ]
        }
      ]
    }
  ]
}