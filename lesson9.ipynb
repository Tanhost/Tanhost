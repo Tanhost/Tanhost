{
  "nbformat": 4,
  "nbformat_minor": 0,
  "metadata": {
    "colab": {
      "provenance": [],
      "authorship_tag": "ABX9TyNOI4T6duu6fSX4nx2SenPK",
      "include_colab_link": true
    },
    "kernelspec": {
      "name": "python3",
      "display_name": "Python 3"
    },
    "language_info": {
      "name": "python"
    }
  },
  "cells": [
    {
      "cell_type": "markdown",
      "metadata": {
        "id": "view-in-github",
        "colab_type": "text"
      },
      "source": [
        "<a href=\"https://colab.research.google.com/github/Tanhost/Tanhost/blob/main/lesson9.ipynb\" target=\"_parent\"><img src=\"https://colab.research.google.com/assets/colab-badge.svg\" alt=\"Open In Colab\"/></a>"
      ]
    },
    {
      "cell_type": "code",
      "execution_count": 2,
      "metadata": {
        "colab": {
          "base_uri": "https://localhost:8080/"
        },
        "id": "nqpuVTZ5Dk84",
        "outputId": "ab440aec-123a-4a99-e231-be817b44612a"
      },
      "outputs": [
        {
          "output_type": "stream",
          "name": "stdout",
          "text": [
            "['a', 'b', 'c', 'd', 1, 2, 3, 4]\n"
          ]
        }
      ],
      "source": [
        "#concatenate two lists\n",
        "my_list = [\"a\", \"b\", \"c\", \"d\"]\n",
        "number_list = [1, 2, 3, 4]\n",
        "print(my_list + number_list)"
      ]
    },
    {
      "cell_type": "code",
      "source": [
        "#change elements\n",
        "my_list = [\"a\", \"b\", \"c\", \"d\"]\n",
        "my_list[1] = 7\n",
        "print(my_list)"
      ],
      "metadata": {
        "colab": {
          "base_uri": "https://localhost:8080/"
        },
        "id": "N_rfOsr5HnBa",
        "outputId": "b8f7d486-e0ab-4eb3-abf9-1152f6cccc67"
      },
      "execution_count": 3,
      "outputs": [
        {
          "output_type": "stream",
          "name": "stdout",
          "text": [
            "['a', 7, 'c', 'd']\n"
          ]
        }
      ]
    },
    {
      "cell_type": "code",
      "source": [
        "#add an element\n",
        "my_list = [\"a\", \"b\", \"c\", \"d\", \"e\"]\n",
        "my_list.insert(1,7)\n",
        "print(my_list)\n"
      ],
      "metadata": {
        "colab": {
          "base_uri": "https://localhost:8080/"
        },
        "id": "XVWNtbYBIidZ",
        "outputId": "f2cd67eb-d466-4dbe-f800-61bc1fa4c676"
      },
      "execution_count": 8,
      "outputs": [
        {
          "output_type": "stream",
          "name": "stdout",
          "text": [
            "['a', 7, 'b', 'c', 'd', 'e']\n"
          ]
        }
      ]
    },
    {
      "cell_type": "code",
      "source": [
        "#remove element\n",
        "my_list = [\"a\", \"b\", \"c\", \"d\"]\n",
        "my_list.remove(\"d\")\n",
        "print(my_list)"
      ],
      "metadata": {
        "colab": {
          "base_uri": "https://localhost:8080/"
        },
        "id": "p1nT8OqAKAWL",
        "outputId": "321f594d-7537-486a-e933-1656afa89df1"
      },
      "execution_count": 9,
      "outputs": [
        {
          "output_type": "stream",
          "name": "stdout",
          "text": [
            "['a', 'b', 'c']\n"
          ]
        }
      ]
    },
    {
      "cell_type": "code",
      "source": [],
      "metadata": {
        "id": "q3ywv8PQLBka"
      },
      "execution_count": null,
      "outputs": []
    }
  ]
}