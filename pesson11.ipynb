{
  "nbformat": 4,
  "nbformat_minor": 0,
  "metadata": {
    "colab": {
      "provenance": [],
      "authorship_tag": "ABX9TyNJEsVw8YP2f/gc4lqL9+YY",
      "include_colab_link": true
    },
    "kernelspec": {
      "name": "python3",
      "display_name": "Python 3"
    },
    "language_info": {
      "name": "python"
    }
  },
  "cells": [
    {
      "cell_type": "markdown",
      "metadata": {
        "id": "view-in-github",
        "colab_type": "text"
      },
      "source": [
        "<a href=\"https://colab.research.google.com/github/Tanhost/Tanhost/blob/main/pesson11.ipynb\" target=\"_parent\"><img src=\"https://colab.research.google.com/assets/colab-badge.svg\" alt=\"Open In Colab\"/></a>"
      ]
    },
    {
      "cell_type": "markdown",
      "source": [
        "FUNÇÃO SPLIT E JOIN"
      ],
      "metadata": {
        "id": "nudyJst1ygOt"
      }
    },
    {
      "cell_type": "code",
      "execution_count": 12,
      "metadata": {
        "colab": {
          "base_uri": "https://localhost:8080/"
        },
        "id": "q9k1lE4nCdTq",
        "outputId": "e270365a-ab07-4e35-dce8-426ea85acb16"
      },
      "outputs": [
        {
          "output_type": "stream",
          "name": "stdout",
          "text": [
            "before .split(): elarson,bmoreno,tshah,sgilmore,eraab\n",
            "after .split(): ['elarson', 'bmoreno', 'tshah', 'sgilmore', 'eraab']\n"
          ]
        }
      ],
      "source": [
        "approved_users = \"elarson,bmoreno,tshah,sgilmore,eraab\"\n",
        "print(\"before .split():\", approved_users)\n",
        "approved_users = approved_users.split(\",\")\n",
        "print(\"after .split():\", approved_users)"
      ]
    },
    {
      "cell_type": "code",
      "source": [
        "removed_users = \"wjaffrey jsoto abernard jhill awilliam\"\n",
        "print(\"before .split():\", removed_users)\n",
        "removed_users = removed_users.split()\n",
        "print(\"after .split():\", removed_users)"
      ],
      "metadata": {
        "colab": {
          "base_uri": "https://localhost:8080/"
        },
        "id": "f1FxwmYWyK7G",
        "outputId": "f3f276c5-722e-40c3-93c6-05753d353ad3"
      },
      "execution_count": 13,
      "outputs": [
        {
          "output_type": "stream",
          "name": "stdout",
          "text": [
            "before .split(): wjaffrey jsoto abernard jhill awilliam\n",
            "after .split(): ['wjaffrey', 'jsoto', 'abernard', 'jhill', 'awilliam']\n"
          ]
        }
      ]
    },
    {
      "cell_type": "code",
      "source": [
        "approved_users = [\"elarson\", \"bmoreno\", \"tshah\", \"sgilmore\", \"eraab\"]\n",
        "print(\"before .join():\", approved_users)\n",
        "approved_users = \",\".join(approved_users)\n",
        "print(\"after .join():\", approved_users)"
      ],
      "metadata": {
        "colab": {
          "base_uri": "https://localhost:8080/"
        },
        "id": "dp7PG4rwyObN",
        "outputId": "228ac2b4-88cd-4e63-a43c-fb8c4f9986fb"
      },
      "execution_count": 14,
      "outputs": [
        {
          "output_type": "stream",
          "name": "stdout",
          "text": [
            "before .join(): ['elarson', 'bmoreno', 'tshah', 'sgilmore', 'eraab']\n",
            "after .join(): elarson,bmoreno,tshah,sgilmore,eraab\n"
          ]
        }
      ]
    },
    {
      "cell_type": "markdown",
      "source": [],
      "metadata": {
        "id": "2TicCz87yhhz"
      }
    }
  ]
}